{
 "cells": [
  {
   "cell_type": "markdown",
   "source": [
    "## Библиотеки, параметры, константы задачи"
   ],
   "metadata": {
    "collapsed": false
   },
   "id": "fb9c705d7af6e75f"
  },
  {
   "cell_type": "code",
   "outputs": [
    {
     "name": "stdout",
     "output_type": "stream",
     "text": [
      "torch.Size([1, 1, 800])\n",
      "params 94746400\n"
     ]
    }
   ],
   "source": [
    "from applications.poly_features_environment import PolyFeaturesEnv\n",
    "import torch\n",
    "import models\n",
    "import numpy as np\n",
    "from common import fstream as fs\n",
    "PATH_BASE = \"/home/amedvedev/projects/python/DenoisingCNN\"\n",
    "NAME_DATASET = \"gcg19\"\n",
    "env = PolyFeaturesEnv(name_model=\"uvych_max_min_pred_v2\", name_dataset=NAME_DATASET, path_base=PATH_BASE,\n",
    "                      device_name=\"cuda\")\n"
   ],
   "metadata": {
    "collapsed": false,
    "ExecuteTime": {
     "end_time": "2024-03-07T20:50:55.556131800Z",
     "start_time": "2024-03-07T20:50:52.131772974Z"
    }
   },
   "id": "c8cc13aa3b7d8e3c",
   "execution_count": 2
  },
  {
   "cell_type": "markdown",
   "source": [
    "## Загрузка данных"
   ],
   "metadata": {
    "collapsed": false
   },
   "id": "bf8e3040d2166f78"
  },
  {
   "cell_type": "code",
   "outputs": [
    {
     "name": "stdout",
     "output_type": "stream",
     "text": [
      "27 16loading progress: |██████████████████████████████████████████████----| 93.8% Complete | \n"
     ]
    }
   ],
   "source": [
    "env.clear_features_and_targets()\n",
    "env \\\n",
    "    .set_batch_size(\n",
    "        train_batch_size=32, val_batch_size=4\n",
    "    ) \\\n",
    "    .load_feature(\n",
    "        shape=(8, 80, 80), feature_name=\"Uvych2_abs_noised.tensor\", mapper=fs.read_mc_tensor\n",
    "    ) \\\n",
    "    .set_target(\n",
    "        shape=(2,), target_name=\"Uvych2_abs.xls\", mapper=fs.read_vector_min_max\n",
    "    );\n",
    "\n",
    "print(env.train_count, env.val_count)"
   ],
   "metadata": {
    "collapsed": true,
    "ExecuteTime": {
     "end_time": "2024-03-07T20:51:19.050499717Z",
     "start_time": "2024-03-07T20:50:57.275541405Z"
    }
   },
   "id": "initial_id",
   "execution_count": 3
  },
  {
   "cell_type": "markdown",
   "source": [
    "## Модели"
   ],
   "metadata": {
    "collapsed": false
   },
   "id": "464f5b6e7ccf7798"
  },
  {
   "cell_type": "markdown",
   "source": [
    "### Новая локальная модель"
   ],
   "metadata": {
    "collapsed": false
   },
   "id": "d51854ee151dc6f7"
  },
  {
   "cell_type": "code",
   "outputs": [],
   "source": [
    "env.set_name_model(f\"uvych_max_min_pred_v{2}\")"
   ],
   "metadata": {
    "collapsed": false,
    "ExecuteTime": {
     "end_time": "2024-03-05T13:24:34.978600750Z",
     "start_time": "2024-03-05T13:24:34.961259751Z"
    }
   },
   "id": "2f81565aa7602f2e",
   "execution_count": 5
  },
  {
   "cell_type": "markdown",
   "source": [],
   "metadata": {
    "collapsed": false
   },
   "id": "8c5d7dcbc97bdfc3"
  },
  {
   "cell_type": "code",
   "outputs": [],
   "source": [
    "env.model = models.predictors.PredictRealMaxMinv2(in_channels=8).to(env.device)"
   ],
   "metadata": {
    "collapsed": false,
    "ExecuteTime": {
     "end_time": "2024-03-07T20:51:23.146613505Z",
     "start_time": "2024-03-07T20:51:23.036665947Z"
    }
   },
   "id": "966f908456bfe6ab",
   "execution_count": 4
  },
  {
   "cell_type": "code",
   "outputs": [
    {
     "data": {
      "text/plain": "PredictRealMaxMinv2(\n  (encoder): Sequential(\n    (0): Conv2d(8, 128, kernel_size=(3, 3), stride=(3, 3), padding=(1, 1))\n    (1): LeakyReLU(negative_slope=0.01)\n    (2): AvgPool2d(kernel_size=2, stride=1, padding=0)\n    (3): Conv2d(128, 256, kernel_size=(3, 3), stride=(3, 3))\n    (4): LeakyReLU(negative_slope=0.01)\n    (5): AvgPool2d(kernel_size=2, stride=1, padding=0)\n    (6): BatchNorm2d(256, eps=1e-05, momentum=0.1, affine=True, track_running_stats=True)\n    (7): Conv2d(256, 512, kernel_size=(2, 2), stride=(2, 2))\n    (8): LeakyReLU(negative_slope=0.01)\n    (9): AvgPool2d(kernel_size=2, stride=1, padding=1)\n    (10): BatchNorm2d(512, eps=1e-05, momentum=0.1, affine=True, track_running_stats=True)\n    (11): Conv2d(512, 1024, kernel_size=(2, 2), stride=(2, 2))\n    (12): LeakyReLU(negative_slope=0.01)\n    (13): AvgPool2d(kernel_size=2, stride=1, padding=1)\n    (14): BatchNorm2d(1024, eps=1e-05, momentum=0.1, affine=True, track_running_stats=True)\n    (15): Conv2d(1024, 2048, kernel_size=(2, 2), stride=(2, 2))\n    (16): LeakyReLU(negative_slope=0.01)\n    (17): AvgPool2d(kernel_size=2, stride=1, padding=1)\n  )\n  (predictor): Sequential(\n    (0): Flatten(start_dim=1, end_dim=-1)\n    (1): Linear(in_features=8192, out_features=2, bias=True)\n  )\n)"
     },
     "execution_count": 4,
     "metadata": {},
     "output_type": "execute_result"
    }
   ],
   "source": [
    "env.model"
   ],
   "metadata": {
    "collapsed": false,
    "ExecuteTime": {
     "end_time": "2024-03-07T15:16:08.634561175Z",
     "start_time": "2024-03-07T15:16:08.616799927Z"
    }
   },
   "id": "4e58ac154a2cd181",
   "execution_count": 4
  },
  {
   "cell_type": "markdown",
   "source": [
    "### Импорт претренерованной модели"
   ],
   "metadata": {
    "collapsed": false
   },
   "id": "af7483626e1e291c"
  },
  {
   "cell_type": "code",
   "outputs": [],
   "source": [
    "env.load_model(model_type=\"pt\")"
   ],
   "metadata": {
    "collapsed": false,
    "ExecuteTime": {
     "end_time": "2024-03-04T15:34:23.206331156Z",
     "start_time": "2024-03-04T15:34:23.145768093Z"
    }
   },
   "id": "5f26a2cd335906de",
   "execution_count": 17
  },
  {
   "cell_type": "markdown",
   "source": [
    "## Численные значения отклонений"
   ],
   "metadata": {
    "collapsed": false
   },
   "id": "1a77b092892967c5"
  },
  {
   "cell_type": "code",
   "outputs": [
    {
     "name": "stdout",
     "output_type": "stream",
     "text": [
      "Текущее среднее отклонение по значениям: 2.605438709259033\n",
      "\n",
      "Текущее максимальное отклонение по значениям в векторе: 6.439251899719238\n",
      "\n",
      "Текущая средняя относительная ошибка: 1.0078952256590128\n",
      "\n",
      "Текущая максимальная относительная ошибка: 1.057204008102417\n"
     ]
    }
   ],
   "source": [
    "def test():\n",
    "    losses = []\n",
    "    errors = []\n",
    "    diff_mean = []\n",
    "    with torch.no_grad():\n",
    "    \n",
    "        for row in zip(*env.val_features_loaders + [env.val_target_loader]):\n",
    "            data_features = list(row)\n",
    "            data_target = data_features.pop()\n",
    "            outputs = env.model(*data_features) #* 65.\n",
    "            \n",
    "            \n",
    "            for ex_id in range(env.val_batch_size):\n",
    "                \n",
    "                # mean_example = (sum(data_features[0][ex_id]) / 64).detach().numpy()\n",
    "                # diff_mean.append(torch.mean(torch.abs(data_target[ex_id] - np.array([torch.min(mean_example), torch.max(mean_example)]))).detach().tolist())\n",
    "                # print(diff_mean[-1])\n",
    "\n",
    "                \n",
    "                loss = torch.mean(torch.abs(outputs[ex_id] - data_target[ex_id]))\n",
    "                losses.append(loss.detach().tolist())\n",
    "                # print(data_target[ex_id].size())\n",
    "                \n",
    "                \n",
    "                error = torch.mean(torch.abs(outputs[ex_id] - data_target[ex_id]) / data_target[ex_id])\n",
    "                errors.append(error.detach().tolist())\n",
    "                #print(outputs, data_target)\n",
    "                \n",
    "    print(\"Текущее среднее отклонение по значениям:\", sum(losses) / len(losses))\n",
    "    print()\n",
    "    # print(\"Текущее среднее отклонение из усреднения:\", sum(diff_mean) / len(diff_mean))\n",
    "    # print()\n",
    "    print(\"Текущее максимальное отклонение по значениям в векторе:\", max(losses))\n",
    "    print()\n",
    "    print(\"Текущая средняя относительная ошибка:\", sum(errors) / len(errors))\n",
    "    print()\n",
    "    print(\"Текущая максимальная относительная ошибка:\", max(errors))\n",
    "test()"
   ],
   "metadata": {
    "collapsed": false,
    "ExecuteTime": {
     "end_time": "2024-03-07T20:51:29.393481695Z",
     "start_time": "2024-03-07T20:51:29.228468937Z"
    }
   },
   "id": "d16e47d75043cfa5",
   "execution_count": 5
  },
  {
   "cell_type": "markdown",
   "source": [
    "## Training"
   ],
   "metadata": {
    "collapsed": false
   },
   "id": "25b532614d12380"
  },
  {
   "cell_type": "code",
   "outputs": [],
   "source": [
    "from common.losses import MseCoeffLoss, L1CoeffLoss"
   ],
   "metadata": {
    "collapsed": false
   },
   "id": "566cf05b67a94285",
   "execution_count": 9
  },
  {
   "cell_type": "code",
   "outputs": [],
   "source": [
    "opt = torch.optim.Adam(env.model.parameters(), lr=0.001)\n",
    "scheduler = torch.optim.lr_scheduler.ReduceLROnPlateau(opt, patience=4)\n"
   ],
   "metadata": {
    "collapsed": false,
    "ExecuteTime": {
     "end_time": "2024-03-07T20:51:34.033171850Z",
     "start_time": "2024-03-07T20:51:34.025342747Z"
    }
   },
   "id": "b1f79fb6d10851f1",
   "execution_count": 6
  },
  {
   "cell_type": "code",
   "outputs": [
    {
     "name": "stderr",
     "output_type": "stream",
     "text": [
      "/home/amedvedev/projects/python/DenoisingCNN/venv/lib/python3.10/site-packages/torch/nn/_reduction.py:42: UserWarning: size_average and reduce args will be deprecated, please use reduction='mean' instead.\n",
      "  warnings.warn(warning.format(ret))\n"
     ]
    },
    {
     "name": "stdout",
     "output_type": "stream",
     "text": [
      "Training progress: |██████████████████████████████████████████████████| 100.0% Complete | \r\n",
      "\n",
      "Validating progress: |██████████████████████████████████████████████████| 100.0% Complete | \r\n",
      "\n",
      "Epoch: 1 \tTraining Loss: 0.280594 \tValidating Loss: 0.244738 \tTime: 0.08 m\n",
      "\n",
      "====================================================================================================\n",
      "Training progress: |██████████████████████████████████████████████████| 100.0% Complete | \r\n",
      "\n",
      "Validating progress: |██████████████████████████████████████████████████| 100.0% Complete | \r\n",
      "\n",
      "Epoch: 2 \tTraining Loss: 0.102736 \tValidating Loss: 0.215557 \tTime: 0.08 m\n",
      "\n",
      "====================================================================================================\n",
      "Training progress: |██████████████████████████████████████████████████| 100.0% Complete | \r\n",
      "\n",
      "Validating progress: |██████████████████████████████████████████████████| 100.0% Complete | \r\n",
      "\n",
      "Epoch: 3 \tTraining Loss: 0.122166 \tValidating Loss: 0.274078 \tTime: 0.08 m\n",
      "\n",
      "====================================================================================================\n",
      "Training progress: |██████████████████████████████████████████████████| 100.0% Complete | \r\n",
      "\n",
      "Validating progress: |██████████████████████████████████████████████████| 100.0% Complete | \r\n",
      "\n",
      "Epoch: 4 \tTraining Loss: 0.112707 \tValidating Loss: 0.401725 \tTime: 0.08 m\n",
      "\n",
      "====================================================================================================\n",
      "Training progress: |██████████████████████████████████████████████████| 100.0% Complete | \r\n",
      "\n",
      "Validating progress: |██████████████████████████████████████████████████| 100.0% Complete | \r\n",
      "\n",
      "Epoch: 5 \tTraining Loss: 0.087877 \tValidating Loss: 0.232859 \tTime: 0.08 m\n",
      "\n",
      "====================================================================================================\n",
      "Training progress: |██████████████████████████████████████████████████| 100.0% Complete | \r\n",
      "\n",
      "Validating progress: |██████████████████████████████████████████████████| 100.0% Complete | \r\n",
      "\n",
      "Epoch: 6 \tTraining Loss: 0.120777 \tValidating Loss: 0.385822 \tTime: 0.08 m\n",
      "\n",
      "====================================================================================================\n",
      "Training progress: |██████████████████████████████████████████████████| 100.0% Complete | \r\n",
      "\n",
      "Validating progress: |██████████████████████████████████████████████████| 100.0% Complete | \r\n",
      "\n",
      "Epoch: 7 \tTraining Loss: 0.114554 \tValidating Loss: 0.408800 \tTime: 0.08 m\n",
      "\n",
      "====================================================================================================\n",
      "Training progress: |██████████████████████████████████████████████████| 100.0% Complete | \r\n",
      "\n",
      "Validating progress: |██████████████████████████████████████████████████| 100.0% Complete | \r\n",
      "\n",
      "Epoch: 8 \tTraining Loss: 0.044259 \tValidating Loss: 0.260085 \tTime: 0.08 m\n",
      "\n",
      "====================================================================================================\n",
      "Training progress: |██████████████████████████████████████████████████| 100.0% Complete | \r\n",
      "\n",
      "Validating progress: |██████████████████████████████████████████████████| 100.0% Complete | \r\n",
      "\n",
      "Epoch: 9 \tTraining Loss: 0.033909 \tValidating Loss: 0.252044 \tTime: 0.08 m\n",
      "\n",
      "====================================================================================================\n",
      "Training progress: |██████████████████████████████████████████████████| 100.0% Complete | \r\n",
      "\n",
      "Validating progress: |██████████████████████████████████████████████████| 100.0% Complete | \r\n",
      "\n",
      "Epoch: 10 \tTraining Loss: 0.032898 \tValidating Loss: 0.253664 \tTime: 0.08 m\n",
      "\n",
      "====================================================================================================\n",
      "Training progress: |██████████████████████████████████████████████████| 100.0% Complete | \r\n",
      "\n",
      "Validating progress: |██████████████████████████████████████████████████| 100.0% Complete | \r\n",
      "\n",
      "Epoch: 11 \tTraining Loss: 0.031952 \tValidating Loss: 0.252845 \tTime: 0.08 m\n",
      "\n",
      "====================================================================================================\n",
      "Training progress: |██████████████████████████████████████████████████| 100.0% Complete | \r\n",
      "\n",
      "Validating progress: |██████████████████████████████████████████████████| 100.0% Complete | \r\n",
      "\n",
      "Epoch: 12 \tTraining Loss: 0.031393 \tValidating Loss: 0.250464 \tTime: 0.08 m\n",
      "\n",
      "====================================================================================================\n",
      "Training progress: |██████████████████████████████████████████████████| 100.0% Complete | \r\n",
      "\n",
      "Validating progress: |██████████████████████████████████████████████████| 100.0% Complete | \r\n",
      "\n",
      "Epoch: 13 \tTraining Loss: 0.030591 \tValidating Loss: 0.270546 \tTime: 0.08 m\n",
      "\n",
      "====================================================================================================\n",
      "Training progress: |██████████████████████████████████████████████████| 100.0% Complete | \r\n",
      "\n",
      "Validating progress: |██████████████████████████████████████████████████| 100.0% Complete | \r\n",
      "\n",
      "Epoch: 14 \tTraining Loss: 0.028819 \tValidating Loss: 0.274860 \tTime: 0.08 m\n",
      "\n",
      "====================================================================================================\n",
      "Training progress: |██████████████████████████████████████████████████| 100.0% Complete | \r\n",
      "\n",
      "Validating progress: |██████████████████████████████████████████████████| 100.0% Complete | \r\n",
      "\n",
      "Epoch: 15 \tTraining Loss: 0.028710 \tValidating Loss: 0.273572 \tTime: 0.08 m\n",
      "\n",
      "====================================================================================================\n",
      "Training progress: |██████████████████████████████████████████████████| 100.0% Complete | \r\n",
      "\n",
      "Validating progress: |██████████████████████████████████████████████████| 100.0% Complete | \r\n",
      "\n",
      "Epoch: 16 \tTraining Loss: 0.028646 \tValidating Loss: 0.273777 \tTime: 0.08 m\n",
      "\n",
      "====================================================================================================\n",
      "Training progress: |██████████████████████████████████████████████████| 100.0% Complete | \r\n",
      "\n",
      "Validating progress: |██████████████████████████████████████████████████| 100.0% Complete | \r\n",
      "\n",
      "Epoch: 17 \tTraining Loss: 0.028583 \tValidating Loss: 0.273782 \tTime: 0.08 m\n",
      "\n",
      "====================================================================================================\n",
      "Training progress: |██████████████████████████████████████████████████| 100.0% Complete | \r\n",
      "\n",
      "Validating progress: |██████████████████████████████████████████████████| 100.0% Complete | \r\n",
      "\n",
      "Epoch: 18 \tTraining Loss: 0.028279 \tValidating Loss: 0.273599 \tTime: 0.08 m\n",
      "\n",
      "====================================================================================================\n",
      "Training progress: |██████████████████████████████████████████████████| 100.0% Complete | \r\n",
      "\n",
      "Validating progress: |██████████████████████████████████████████████████| 100.0% Complete | \r\n",
      "\n",
      "Epoch: 19 \tTraining Loss: 0.028270 \tValidating Loss: 0.273440 \tTime: 0.08 m\n",
      "\n",
      "====================================================================================================\n",
      "Training progress: |██████████████████████████████████████████████████| 100.0% Complete | \r\n",
      "\n",
      "Validating progress: |██████████████████████████████████████████████████| 100.0% Complete | \r\n",
      "\n",
      "Epoch: 20 \tTraining Loss: 0.028262 \tValidating Loss: 0.273321 \tTime: 0.08 m\n",
      "\n",
      "====================================================================================================\n",
      "Training progress: |██████████████████████████████████████████████████| 100.0% Complete | \r\n",
      "\n",
      "Validating progress: |██████████████████████████████████████████████████| 100.0% Complete | \r\n",
      "\n",
      "Epoch: 21 \tTraining Loss: 0.028255 \tValidating Loss: 0.273234 \tTime: 0.08 m\n",
      "\n",
      "====================================================================================================\n",
      "Training progress: |██████████████████████████████████████████████████| 100.0% Complete | \r\n",
      "\n",
      "Validating progress: |██████████████████████████████████████████████████| 100.0% Complete | \r\n",
      "\n",
      "Epoch: 22 \tTraining Loss: 0.028249 \tValidating Loss: 0.273171 \tTime: 0.07 m\n",
      "\n",
      "====================================================================================================\n",
      "Training progress: |██████████████████████████████████████████████████| 100.0% Complete | \r\n",
      "\n",
      "Validating progress: |██████████████████████████████████████████████████| 100.0% Complete | \r\n",
      "\n",
      "Epoch: 23 \tTraining Loss: 0.028219 \tValidating Loss: 0.273164 \tTime: 0.08 m\n",
      "\n",
      "====================================================================================================\n",
      "Training progress: |██████████████████████████████████████████████████| 100.0% Complete | \r\n",
      "\n",
      "Validating progress: |██████████████████████████████████████████████████| 100.0% Complete | \r\n",
      "\n",
      "Epoch: 24 \tTraining Loss: 0.028218 \tValidating Loss: 0.273157 \tTime: 0.08 m\n",
      "\n",
      "====================================================================================================\n",
      "Training progress: |██████████████████████████████████████████████████| 100.0% Complete | \r\n",
      "\n",
      "Validating progress: |██████████████████████████████████████████████████| 100.0% Complete | \r\n",
      "\n",
      "Epoch: 25 \tTraining Loss: 0.028217 \tValidating Loss: 0.273150 \tTime: 0.08 m\n",
      "\n",
      "====================================================================================================\n",
      "Training progress: |██████████████████████████████████████████████████| 100.0% Complete | \r\n",
      "\n",
      "Validating progress: |██████████████████████████████████████████████████| 100.0% Complete | \r\n",
      "\n",
      "Epoch: 26 \tTraining Loss: 0.028217 \tValidating Loss: 0.273143 \tTime: 0.08 m\n",
      "\n",
      "====================================================================================================\n",
      "Training progress: |██████████████████████████████████████████████████| 100.0% Complete | \r\n",
      "\n",
      "Validating progress: |██████████████████████████████████████████████████| 100.0% Complete | \r\n",
      "\n",
      "Epoch: 27 \tTraining Loss: 0.028216 \tValidating Loss: 0.273137 \tTime: 0.08 m\n",
      "\n",
      "====================================================================================================\n",
      "Training progress: |██████████████████████████████████████████████████| 100.0% Complete | \r\n",
      "\n",
      "Validating progress: |██████████████████████████████████████████████████| 100.0% Complete | \r\n",
      "\n",
      "Epoch: 28 \tTraining Loss: 0.028213 \tValidating Loss: 0.273136 \tTime: 0.08 m\n",
      "\n",
      "====================================================================================================\n",
      "Training progress: |██████████████████████████████████████████████████| 100.0% Complete | \r\n",
      "\n",
      "Validating progress: |██████████████████████████████████████████████████| 100.0% Complete | \r\n",
      "\n",
      "Epoch: 29 \tTraining Loss: 0.028213 \tValidating Loss: 0.273136 \tTime: 0.07 m\n",
      "\n",
      "====================================================================================================\n",
      "Training progress: |██████████████████████████████████████████████████| 100.0% Complete | \r\n",
      "\n",
      "Validating progress: |██████████████████████████████████████████████████| 100.0% Complete | \r\n",
      "\n",
      "Epoch: 30 \tTraining Loss: 0.028213 \tValidating Loss: 0.273135 \tTime: 0.08 m\n",
      "\n",
      "====================================================================================================\n"
     ]
    }
   ],
   "source": [
    "env.train(30, step_saving=False, step_plotting=False,\n",
    "          optimizer=opt, scheduler=None, \n",
    "          criterion=torch.nn.SmoothL1Loss(reduce=\"none\", reduction=\"none\"), callbacks=[lambda: scheduler.step(env.test_losses[-1])])\n"
   ],
   "metadata": {
    "collapsed": false,
    "ExecuteTime": {
     "end_time": "2024-03-07T20:54:01.490838715Z",
     "start_time": "2024-03-07T20:51:44.512704685Z"
    }
   },
   "id": "a1328412e86e9e6d",
   "execution_count": 7
  },
  {
   "cell_type": "markdown",
   "source": [
    "## Сохранение модели"
   ],
   "metadata": {
    "collapsed": false
   },
   "id": "e20928f5f27928cd"
  },
  {
   "cell_type": "code",
   "outputs": [],
   "source": [
    "env.save(onnx=False, pth=False)"
   ],
   "metadata": {
    "collapsed": false,
    "ExecuteTime": {
     "end_time": "2024-03-07T13:02:03.626469719Z",
     "start_time": "2024-03-07T13:02:03.527359522Z"
    }
   },
   "id": "c8be73a6736d8129",
   "execution_count": 22
  },
  {
   "cell_type": "markdown",
   "source": [
    "## Loss visualisation"
   ],
   "metadata": {
    "collapsed": false
   },
   "id": "17fe042146725979"
  },
  {
   "cell_type": "code",
   "outputs": [
    {
     "data": {
      "text/plain": "<Figure size 640x480 with 1 Axes>",
      "image/png": "[encoded data removed]"
     },
     "metadata": {},
     "output_type": "display_data"
    }
   ],
   "source": [
    "env.show_metrics(n_last=50, train=True, val=True)"
   ],
   "metadata": {
    "collapsed": false,
    "ExecuteTime": {
     "end_time": "2024-03-07T14:32:11.034665266Z",
     "start_time": "2024-03-07T14:32:10.832785658Z"
    }
   },
   "id": "3c58ce982f789bd",
   "execution_count": 9
  },
  {
   "cell_type": "markdown",
   "source": [
    "## Clear memory"
   ],
   "metadata": {
    "collapsed": false
   },
   "id": "f48e0579fefe05a"
  },
  {
   "cell_type": "code",
   "outputs": [
    {
     "data": {
      "text/plain": "788"
     },
     "execution_count": 11,
     "metadata": {},
     "output_type": "execute_result"
    }
   ],
   "source": [
    "import gc\n",
    "gc.collect()\n"
   ],
   "metadata": {
    "collapsed": false,
    "ExecuteTime": {
     "end_time": "2024-03-07T12:50:27.411274283Z",
     "start_time": "2024-03-07T12:50:27.404219385Z"
    }
   },
   "id": "644ad5df103a1a49",
   "execution_count": 11
  },
  {
   "cell_type": "code",
   "outputs": [],
   "source": [
    "env.model.cpu()\n",
    "del env.model\n",
    "\n",
    "torch.cuda.empty_cache()"
   ],
   "metadata": {
    "collapsed": false,
    "ExecuteTime": {
     "end_time": "2024-03-07T13:58:23.832258714Z",
     "start_time": "2024-03-07T13:58:23.753711476Z"
    }
   },
   "id": "267e6df9e86e2820",
   "execution_count": 15
  }
 ],
 "metadata": {
  "kernelspec": {
   "display_name": "Python 3",
   "language": "python",
   "name": "python3"
  },
  "language_info": {
   "codemirror_mode": {
    "name": "ipython",
    "version": 2
   },
   "file_extension": ".py",
   "mimetype": "text/x-python",
   "name": "python",
   "nbconvert_exporter": "python",
   "pygments_lexer": "ipython2",
   "version": "2.7.6"
  }
 },
 "nbformat": 4,
 "nbformat_minor": 5
}
