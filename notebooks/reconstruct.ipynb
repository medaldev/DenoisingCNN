{
 "cells": [
  {
   "cell_type": "markdown",
   "source": [
    "# Reconstruction problem notebook"
   ],
   "metadata": {
    "collapsed": false
   },
   "id": "7f4f4c32ad630eb6"
  },
  {
   "cell_type": "code",
   "outputs": [
    {
     "name": "stdout",
     "output_type": "stream",
     "text": [
      "torch.Size([1, 1])\n",
      "params 6401\n"
     ]
    }
   ],
   "source": [
    "import numpy as np\n",
    "from torch import nn\n",
    "class ThisModel(nn.Module):\n",
    "    def __init__(self, size):\n",
    "        super(ThisModel, self).__init__()\n",
    "\n",
    "        # Encoder\n",
    "        self.size = size\n",
    "\n",
    "\n",
    "        self.linear_block = nn.Sequential(\n",
    "            nn.SELU(),\n",
    "            nn.Linear(size * size, 1),\n",
    "            \n",
    "        )\n",
    "\n",
    "        #self.lin1 = nn.Linear\n",
    "\n",
    "        self.relu = nn.ReLU()\n",
    "        self.selu = nn.SELU()\n",
    "        self.sigmoid = nn.Sigmoid()\n",
    "\n",
    "        self.dp = nn.Dropout()\n",
    "\n",
    "\n",
    "\n",
    "    def forward(self, x):\n",
    "        bs = x.size()[0]\n",
    "\n",
    "        x = self.linear_block(x.view(bs, self.size * self.size))\n",
    "\n",
    "\n",
    "       \n",
    "\n",
    "        return x\n",
    "    \n",
    "def test():\n",
    "    device = torch.device(\"cuda:0\")\n",
    "    model = ThisModel(80).to(device).eval()\n",
    "    x = torch.randn(1, 1, 80, 80, device=device)\n",
    "    print(model(x).size())\n",
    "\n",
    "    print(\"params\", sum(p.numel() for p in model.parameters() if p.requires_grad))\n",
    "\n",
    "test()"
   ],
   "metadata": {
    "collapsed": false,
    "ExecuteTime": {
     "end_time": "2024-03-03T11:58:20.016902128Z",
     "start_time": "2024-03-03T11:58:19.482701766Z"
    }
   },
   "id": "30ff5b63a0f33376",
   "execution_count": 3
  },
  {
   "cell_type": "code",
   "outputs": [],
   "source": [
    "from torch import nn\n",
    "class ThisModel(nn.Module):\n",
    "    def __init__(self, size):\n",
    "        super(ThisModel, self).__init__()\n",
    "\n",
    "        # Encoder\n",
    "        self.size = size\n",
    "\n",
    "\n",
    "        self.linear_block = nn.Sequential(\n",
    "            nn.Linear(size * size + 1, size * size),\n",
    "            nn.Sigmoid(),\n",
    "            nn.Linear(size * size, size * size - 600),\n",
    "            nn.Sigmoid(),\n",
    "            nn.Linear(size * size - 600, size * size),\n",
    "            nn.Sigmoid(),\n",
    "            \n",
    "        )\n",
    "\n",
    "        #self.lin1 = nn.Linear\n",
    "\n",
    "        self.relu = nn.ReLU()\n",
    "        self.selu = nn.SELU()\n",
    "        self.sigmoid = nn.Sigmoid()\n",
    "\n",
    "        self.dp = nn.Dropout()\n",
    "\n",
    "\n",
    "\n",
    "    def forward(self, x, k0):\n",
    "        bs = x.size()[0]\n",
    "        x = torch.cat((x.view(self.size * self.size, bs), k0.view(1, bs))).view(bs, self.size * self.size + 1)\n",
    "        x = self.linear_block(x).view(bs, 1, self.size, self.size)\n",
    "\n",
    "\n",
    "       \n",
    "\n",
    "        return x\n",
    "    \n",
    "def test():\n",
    "    device = torch.device(\"cpu:0\")\n",
    "    model = ThisModel(80).to(device).eval()\n",
    "    x = torch.randn(1, 1, 80, 80, device=device)\n",
    "    k0 = torch.randn(1, 1, 1, 1, device=device)\n",
    "    print(model(x, k0).size())\n",
    "\n",
    "    print(\"params\", sum(p.numel() for p in model.parameters() if p.requires_grad))\n",
    "\n",
    "test()"
   ],
   "metadata": {
    "collapsed": false
   },
   "id": "64d20cc4dc7d3b47",
   "execution_count": null
  },
  {
   "cell_type": "code",
   "outputs": [],
   "source": [
    "import torch\n",
    "from torch import nn\n",
    "class ThisModel(nn.Module):\n",
    "    def __init__(self, size):\n",
    "        super(ThisModel, self).__init__()\n",
    "\n",
    "        # Encoder\n",
    "        self.size = size\n",
    "\n",
    "\n",
    "        self.linear_block = nn.Sequential(\n",
    "            nn.Linear(2 * size ** 2, size * size),\n",
    "            nn.SELU(),\n",
    "            nn.Linear(size * size, size * size - 600),\n",
    "            nn.Sigmoid(),\n",
    "            nn.Linear(size * size - 600, size * size),\n",
    "            nn.Sigmoid(),\n",
    "            \n",
    "        )\n",
    "\n",
    "        #self.lin1 = nn.Linear\n",
    "\n",
    "        self.relu = nn.ReLU()\n",
    "        self.selu = nn.SELU()\n",
    "        self.sigmoid = nn.Sigmoid()\n",
    "\n",
    "        self.dp = nn.Dropout()\n",
    "\n",
    "\n",
    "\n",
    "    def forward(self, x1, x2):\n",
    "        bs = x1.size()[0]\n",
    "        inp_size = int(2 * self.size ** 2 + 1)\n",
    "        x = torch.cat((x1.view(self.size * self.size, bs), x2.view(self.size * self.size, bs))).view(bs, 2 * self.size ** 2)\n",
    "        x = self.linear_block(x).view(bs, 1, self.size, self.size)\n",
    "\n",
    "\n",
    "       \n",
    "\n",
    "        return x\n",
    "    \n",
    "def test():\n",
    "    device = torch.device(\"cpu:0\")\n",
    "    model = ThisModel(80).to(device).eval()\n",
    "    x1 = torch.randn(1, 1, 80, 80, device=device)\n",
    "    x2 = torch.randn(1, 1, 80, 80, device=device)\n",
    "    print(model(x1, x2).size())\n",
    "\n",
    "    print(\"params\", sum(p.numel() for p in model.parameters() if p.requires_grad))\n",
    "\n",
    "test()"
   ],
   "metadata": {
    "collapsed": false
   },
   "id": "9dc3cef0f8faa0a1",
   "execution_count": null
  },
  {
   "cell_type": "code",
   "outputs": [],
   "source": [
    "import torch\n",
    "from torch import nn\n",
    "class ThisModel(nn.Module):\n",
    "    def __init__(self, size: int):\n",
    "        super(ThisModel, self).__init__()\n",
    "\n",
    "        # Encoder\n",
    "        self.size: int = size\n",
    "\n",
    "\n",
    "        self.linear_block = nn.Sequential(\n",
    "            nn.Linear(2 * size ** 2 + 1, size * size),\n",
    "            nn.SELU(),\n",
    "            nn.Linear(size * size, size * size - 600),\n",
    "            nn.SELU(),\n",
    "            nn.Linear(size * size - 600, size * size),\n",
    "            \n",
    "        )\n",
    "\n",
    "        #self.lin1 = nn.Linear\n",
    "\n",
    "        self.relu = nn.ReLU()\n",
    "        self.selu = nn.SELU()\n",
    "        self.sigmoid = nn.Sigmoid()\n",
    "\n",
    "        self.dp = nn.Dropout()\n",
    "\n",
    "\n",
    "\n",
    "    def forward(self, x1, x2, k0):\n",
    "        bs = x1.size()[0]\n",
    "        inp_size = int(2 * self.size ** 2 + 1)\n",
    "        x = torch.cat((x1.view(self.size * self.size, bs), x2.view(self.size * self.size, bs))).view(bs, inp_size - 1)\n",
    "        x = torch.cat((x.view(inp_size - 1, bs), k0.view(1, bs))).view(bs, inp_size)\n",
    "        x = self.linear_block(x).view(bs, 1, self.size, self.size)\n",
    "\n",
    "\n",
    "       \n",
    "\n",
    "        return x\n",
    "    \n",
    "def test():\n",
    "    device = torch.device(\"cpu:0\")\n",
    "    model = ThisModel(80).to(device).eval()\n",
    "    x1 = torch.randn(1, 1, 80, 80, device=device)\n",
    "    x2 = torch.randn(1, 1, 80, 80, device=device)\n",
    "    k0 = torch.randn(1, 1, 1, 1, device=device)\n",
    "    print(model(x1, x2, k0).size())\n",
    "\n",
    "    print(\"params\", sum(p.numel() for p in model.parameters() if p.requires_grad))\n",
    "\n",
    "test()"
   ],
   "metadata": {
    "collapsed": false
   },
   "id": "74803c5ba3de973d",
   "execution_count": null
  },
  {
   "cell_type": "code",
   "outputs": [],
   "source": [
    "import torch\n",
    "from torch import nn\n",
    "class ThisModel(nn.Module):\n",
    "    def __init__(self, size: int):\n",
    "        super(ThisModel, self).__init__()\n",
    "\n",
    "        # Encoder\n",
    "        self.size: int = size\n",
    "\n",
    "\n",
    "        self.linear_block = nn.Sequential(\n",
    "            nn.Linear(2 * size ** 2 + 1, size * size),\n",
    "            nn.Sigmoid(),\n",
    "            nn.Linear(size * size, size * size - 600),\n",
    "            nn.Sigmoid(),\n",
    "            nn.Linear(size * size - 600, size * size),\n",
    "            nn.Sigmoid(),\n",
    "            \n",
    "        )\n",
    "\n",
    "        #self.lin1 = nn.Linear\n",
    "\n",
    "        self.relu = nn.ReLU()\n",
    "        self.selu = nn.SELU()\n",
    "        self.sigmoid = nn.Sigmoid()\n",
    "\n",
    "        self.dp = nn.Dropout()\n",
    "\n",
    "\n",
    "\n",
    "    def forward(self, x1, x2, k0):\n",
    "        bs = x1.size()[0]\n",
    "        inp_size = int(2 * self.size ** 2 + 1)\n",
    "        x = torch.cat((x1.view(self.size * self.size, bs), x2.view(self.size * self.size, bs))).view(bs, inp_size - 1)\n",
    "        x = torch.cat((x.view(inp_size - 1, bs), k0.view(1, bs))).view(bs, inp_size)\n",
    "        x = self.linear_block(x).view(bs, 1, self.size, self.size)\n",
    "\n",
    "\n",
    "       \n",
    "\n",
    "        return x\n",
    "    \n",
    "def test():\n",
    "    device = torch.device(\"cpu:0\")\n",
    "    model = ThisModel(80).to(device).eval()\n",
    "    x1 = torch.randn(1, 1, 80, 80, device=device)\n",
    "    x2 = torch.randn(1, 1, 80, 80, device=device)\n",
    "    k0 = torch.randn(1, 1, 1, 1, device=device)\n",
    "    print(model(x1, x2, k0).size())\n",
    "\n",
    "    print(\"params\", sum(p.numel() for p in model.parameters() if p.requires_grad))\n",
    "\n",
    "test()"
   ],
   "metadata": {
    "collapsed": false
   },
   "id": "6b70bed5de61bd1f",
   "execution_count": null
  },
  {
   "cell_type": "code",
   "outputs": [],
   "source": [
    "import torch\n",
    "from torch import nn\n",
    "class ThisModel(nn.Module):\n",
    "    def __init__(self, size):\n",
    "        super(ThisModel, self).__init__()\n",
    "\n",
    "        # Encoder\n",
    "        self.size = size\n",
    "\n",
    "\n",
    "        self.linear_block = nn.Sequential(\n",
    "            nn.Linear(2 * size ** 2, size * size),\n",
    "            nn.ReLU(),\n",
    "            nn.Linear(size * size, 2048),\n",
    "            nn.ReLU(),\n",
    "            nn.Linear(2048, 1),\n",
    "            nn.ReLU(),\n",
    "\n",
    "            \n",
    "        )\n",
    "\n",
    "        #self.lin1 = nn.Linear\n",
    "\n",
    "        self.relu = nn.ReLU()\n",
    "        self.selu = nn.SELU()\n",
    "        self.sigmoid = nn.Sigmoid()\n",
    "\n",
    "        self.dp = nn.Dropout()\n",
    "\n",
    "\n",
    "\n",
    "    def forward(self, x1, x2):\n",
    "        bs = x1.size()[0]\n",
    "        inp_size = int(2 * self.size ** 2)\n",
    "        x = torch.cat((x1.view(self.size * self.size, bs), x2.view(self.size * self.size, bs))).view(bs, inp_size)\n",
    "        x = self.linear_block(x)\n",
    "\n",
    "\n",
    "       \n",
    "\n",
    "        return x\n",
    "    \n",
    "def test():\n",
    "    device = torch.device(\"cpu:0\")\n",
    "    model = ThisModel(80).to(device).eval()\n",
    "    x1 = torch.randn(1, 1, 80, 80, device=device)\n",
    "    x2 = torch.randn(1, 1, 80, 80, device=device)\n",
    "    print(model(x1, x2).size())\n",
    "\n",
    "    print(\"params\", sum(p.numel() for p in model.parameters() if p.requires_grad))\n",
    "\n",
    "test()"
   ],
   "metadata": {
    "collapsed": false
   },
   "id": "71d5d43d2b8b3421",
   "execution_count": null
  },
  {
   "cell_type": "markdown",
   "source": [
    "================================================================================================================="
   ],
   "metadata": {
    "collapsed": false
   },
   "id": "e313938dc22f1b3a"
  },
  {
   "cell_type": "markdown",
   "source": [
    "## Библиотеки, параметры, константы задачи"
   ],
   "metadata": {
    "collapsed": false
   },
   "id": "4a9ef876ce41ad11"
  },
  {
   "cell_type": "code",
   "outputs": [],
   "source": [
    "from applications.poly_features_environment import PolyFeaturesEnv\n",
    "import torch\n",
    "import models\n",
    "from common.fstream import read_tensor, read_matrix, rescale_array, read_mc_tensor\n",
    "\n",
    "PATH_BASE = \"/home/amedvedev/projects/python/DenoisingCNN\"\n",
    "NAME_DATASET = \"gcg19\"\n",
    "env = PolyFeaturesEnv(name_model=\"model_31\", name_dataset=NAME_DATASET, path_base=PATH_BASE,\n",
    "                      device_name=\"cuda\")\n"
   ],
   "metadata": {
    "collapsed": false,
    "ExecuteTime": {
     "end_time": "2024-03-03T22:02:14.698294592Z",
     "start_time": "2024-03-03T22:02:10.722382578Z"
    }
   },
   "id": "9c935114d62e36ba",
   "execution_count": 2
  },
  {
   "cell_type": "markdown",
   "source": [
    "## Загрузка данных"
   ],
   "metadata": {
    "collapsed": false
   },
   "id": "227b20a688b67e93"
  },
  {
   "cell_type": "markdown",
   "source": [
    "### Восстанавление $\\left|k\\right|$ по $\\left|y_{выч}\\right|$, разделённому на левую ($\\left|y_{выч}\\right|_{L}$) и правую ($\\left|y_{выч}\\right|_{R}$) части"
   ],
   "metadata": {
    "collapsed": false
   },
   "id": "fa219ab7cd4bd8ee"
  },
  {
   "cell_type": "code",
   "outputs": [],
   "source": [
    "env.clear_features_and_targets()\n",
    "env \\\n",
    "    .set_batch_size(\n",
    "        train_batch_size=32, val_batch_size=4\n",
    "    ) \\\n",
    "    .load_feature(\n",
    "        width=40, height=80, feature_name=\"Uvych_abs_left.xls\", mapper=read_matrix\n",
    "    ) \\\n",
    "    .load_feature(\n",
    "        width=40, height=80, feature_name=\"Uvych_abs_right.xls\", mapper=read_matrix\n",
    "    ) \\\n",
    "    .set_target(\n",
    "        width=80, height=80, target_name=\"K_abs.xls\", mapper=read_tensor\n",
    "    ) \\\n",
    "    \n",
    "\n",
    "print(env.train_count, env.val_count)\n"
   ],
   "metadata": {
    "collapsed": false
   },
   "id": "ac93e5b01c30fbec",
   "execution_count": null
  },
  {
   "cell_type": "markdown",
   "source": [
    "### Восстанавление $\\left|k\\right|$ из $\\tilde{\\left|k\\right|}$ (noised)"
   ],
   "metadata": {
    "collapsed": false
   },
   "id": "35a226a005023983"
  },
  {
   "cell_type": "code",
   "outputs": [],
   "source": [
    "mapper_div = lambda path: read_matrix(path, coeff_norm=61.) # 140\n",
    "\n",
    "env.clear_features_and_targets()\n",
    "env \\\n",
    "    .set_batch_size(\n",
    "        train_batch_size=16, val_batch_size=4\n",
    "    ) \\\n",
    "    .load_feature(\n",
    "        width=80, height=80, feature_name=\"K_noised_abs.xls\", mapper=mapper_div, transform=None\n",
    "    ) \\\n",
    "    .set_target(\n",
    "        width=80, height=80, target_name=\"K_abs.xls\", mapper=mapper_div, transform=None\n",
    "    ) \\\n",
    "    \n",
    "print(env.train_count, env.val_count)"
   ],
   "metadata": {
    "collapsed": false
   },
   "id": "9a3618de5489bb5b",
   "execution_count": null
  },
  {
   "cell_type": "code",
   "outputs": [
    {
     "name": "stdout",
     "output_type": "stream",
     "text": [
      "Data loading progress: |██████████████████████████████████████████████----| 92.3% Complete | \r"
     ]
    },
    {
     "data": {
      "text/plain": "<applications.poly_features_environment.PolyFeaturesEnv at 0x7febf673f070>"
     },
     "execution_count": 2,
     "metadata": {},
     "output_type": "execute_result"
    }
   ],
   "source": [
    "\n",
    "env.clear_features_and_targets()\n",
    "env \\\n",
    "    .set_batch_size(\n",
    "        train_batch_size=32, val_batch_size=4\n",
    "    ) \\\n",
    "    .load_feature(\n",
    "        shape=(64, 80, 80), feature_name=\"K_abs_noised.tensor\", mapper=lambda path: read_mc_tensor(path, rescale_each=(0., 1.)), transform=None, \n",
    "        lazy_load=False, pct_load=0.8\n",
    "    ) \\\n",
    "    .set_target(\n",
    "        shape=(1, 80, 80), target_name=\"K_abs.xls\", mapper=lambda path: read_tensor(path), transform=None, \n",
    "        lazy_load=False, pct_load=0.8\n",
    "    ) \\\n",
    "    \n",
    "# print(env.train_count, env.val_count)"
   ],
   "metadata": {
    "collapsed": false,
    "ExecuteTime": {
     "end_time": "2024-03-03T19:53:00.143164570Z",
     "start_time": "2024-03-03T19:50:27.955327865Z"
    }
   },
   "id": "467a2613c5c8aed7",
   "execution_count": 2
  },
  {
   "cell_type": "code",
   "outputs": [
    {
     "name": "stdout",
     "output_type": "stream",
     "text": [
      "Data loading progress: |██████████████████████████████████████████████----| 93.8% Complete | \r"
     ]
    },
    {
     "data": {
      "text/plain": "<applications.poly_features_environment.PolyFeaturesEnv at 0x7f7c2c770d00>"
     },
     "execution_count": 3,
     "metadata": {},
     "output_type": "execute_result"
    }
   ],
   "source": [
    "env.clear_features_and_targets()\n",
    "env \\\n",
    "    .set_batch_size(\n",
    "        train_batch_size=32, val_batch_size=4\n",
    "    ) \\\n",
    "    .load_feature(\n",
    "        shape=(64, 80, 80), \n",
    "        feature_name=\"K_abs_noised.tensor\", \n",
    "        mapper=lambda path: read_mc_tensor(path) / 30., \n",
    "        transform=None, \n",
    "        lazy_load=False, \n",
    "        pct_load=1\n",
    "    ) \\\n",
    "    .set_target(\n",
    "        shape=(1, 80, 80), \n",
    "        target_name=\"K_abs.xls\", \n",
    "        mapper=lambda path: read_matrix(path, 10.), \n",
    "        transform=None, \n",
    "        lazy_load=False, pct_load=1\n",
    "    ) \\\n",
    "    \n",
    "# print(env.train_count, env.val_count)"
   ],
   "metadata": {
    "collapsed": false,
    "ExecuteTime": {
     "end_time": "2024-03-03T22:05:21.127348280Z",
     "start_time": "2024-03-03T22:02:16.992739997Z"
    }
   },
   "id": "3e10c2d44b00570b",
   "execution_count": 3
  },
  {
   "cell_type": "code",
   "outputs": [
    {
     "data": {
      "text/plain": "tensor([[1.2053, 1.1735, 1.1888,  ..., 1.1851, 1.1969, 1.1543],\n        [1.2013, 1.1969, 1.1872,  ..., 1.1577, 1.2064, 1.1649],\n        [1.2061, 1.1557, 1.2034,  ..., 1.1678, 1.1995, 1.1707],\n        ...,\n        [1.1687, 1.1791, 1.1614,  ..., 1.1542, 1.1849, 1.2049],\n        [1.1593, 1.1643, 1.1699,  ..., 1.2059, 1.1565, 1.1860],\n        [1.1794, 1.1758, 1.1679,  ..., 1.1739, 1.1758, 1.1971]],\n       device='cuda:0')"
     },
     "execution_count": 9,
     "metadata": {},
     "output_type": "execute_result"
    }
   ],
   "source": [
    "env.train_features_loaders[0][9][0][0]"
   ],
   "metadata": {
    "collapsed": false,
    "ExecuteTime": {
     "end_time": "2024-03-03T22:06:30.912885161Z",
     "start_time": "2024-03-03T22:06:30.869422166Z"
    }
   },
   "id": "476d241dab5010ce",
   "execution_count": 9
  },
  {
   "cell_type": "code",
   "outputs": [],
   "source": [
    "import numpy as np\n",
    "env.clear_features_and_targets()\n",
    "env \\\n",
    "    .set_batch_size(\n",
    "        train_batch_size=16, val_batch_size=4\n",
    "    ) \\\n",
    "    .load_feature(\n",
    "        shape=(64, 80, 80), feature_name=\"Uvych2_abs_noised.tensor\", mapper=lambda path: np.interp(read_mc_tensor(path), (-5, 6), (0, 1)), transform=None\n",
    "    ) \\\n",
    "    .set_target(\n",
    "        shape=(1, 80, 80), target_name=\"Uvych2_abs.xls\", mapper=lambda path: np.interp(read_matrix(path), (-5, 6), (0, 1)), transform=None\n",
    "    ) \\\n",
    "    \n",
    "print(env.train_count, env.val_count)"
   ],
   "metadata": {
    "collapsed": false
   },
   "id": "b9c6939f940dee68",
   "execution_count": null
  },
  {
   "cell_type": "markdown",
   "source": [
    "### Восстанавление $\\left|k-k_{0}\\right|$ из $\\left|k-k_{0}\\right|$ (noised)"
   ],
   "metadata": {
    "collapsed": false
   },
   "id": "39ef380d5773740"
  },
  {
   "cell_type": "code",
   "outputs": [],
   "source": [
    "env.clear_features_and_targets()\n",
    "env \\\n",
    "    .set_batch_size(\n",
    "        train_batch_size=4, val_batch_size=4\n",
    "    ) \\\n",
    "    .load_feature(\n",
    "        width=80, height=80, feature_name=\"K-k0_noised_abs.xls\", mapper=read_tensor, transform=None\n",
    "    ) \\\n",
    "    .set_target(\n",
    "        width=80, height=80, target_name=\"K-k0_abs.xls\", mapper=read_matrix, transform=None\n",
    "    ) \\\n",
    "    \n",
    "print(env.train_count, env.val_count)"
   ],
   "metadata": {
    "collapsed": false
   },
   "id": "3f216b8a7b21fef7",
   "execution_count": null
  },
  {
   "cell_type": "markdown",
   "source": [
    "### Восстанавление $\\left|k\\right|$ из $\\left|y_{выч}\\right|$ "
   ],
   "metadata": {
    "collapsed": false
   },
   "id": "c735b90ebf4f885a"
  },
  {
   "cell_type": "code",
   "outputs": [],
   "source": [
    "env.clear_features_and_targets()\n",
    "env \\\n",
    "    .set_batch_size(\n",
    "        train_batch_size=32, val_batch_size=4\n",
    "    ) \\\n",
    "    .load_feature(\n",
    "        width=80, height=80, feature_name=\"Uvych2_abs.xls\", mapper=read_matrix, transform=None\n",
    "    ) \\\n",
    "    .set_target(\n",
    "        width=80, height=80, target_name=\"K_abs.xls\", mapper=read_matrix, transform=None\n",
    "    ) \\\n",
    "    \n",
    "print(env.train_count, env.val_count)\n"
   ],
   "metadata": {
    "collapsed": false
   },
   "id": "4aed2312e218abff",
   "execution_count": null
  },
  {
   "cell_type": "markdown",
   "source": [
    "### Восстанавление $\\left|W\\right|$ из $\\left|y_{выч}\\right|$ & $K_{0}$ \n"
   ],
   "metadata": {
    "collapsed": false
   },
   "id": "553f531a6981a313"
  },
  {
   "cell_type": "code",
   "outputs": [],
   "source": [
    "env.clear_features_and_targets()\n",
    "env \\\n",
    "    .set_batch_size(\n",
    "        train_batch_size=32, val_batch_size=4\n",
    "    ) \\\n",
    "    .load_feature(\n",
    "        width=80, height=80, feature_name=\"Uvych2_abs.xls\", mapper=read_matrix, transform=None\n",
    "    ) \\\n",
    "    .load_feature(\n",
    "        width=1, height=1, feature_name=\"k0_re.txt\", mapper=read_matrix, transform=None\n",
    "    ) \\\n",
    "    .set_target(\n",
    "        width=80, height=80, target_name=\"W_abs.xls\", mapper=read_matrix, transform=None\n",
    "    ) \\\n",
    "    \n",
    "print(env.train_count, env.val_count)"
   ],
   "metadata": {
    "collapsed": false
   },
   "id": "48f30dac3dbada02",
   "execution_count": null
  },
  {
   "cell_type": "markdown",
   "source": [
    "### Восстанавление $\\left|W\\right|$ по комплексному $y_{выч}$"
   ],
   "metadata": {
    "collapsed": false
   },
   "id": "de2d1e3100480a00"
  },
  {
   "cell_type": "code",
   "outputs": [],
   "source": [
    "env.clear_features_and_targets()\n",
    "env \\\n",
    "    .set_batch_size(\n",
    "        train_batch_size=32, val_batch_size=4\n",
    "    ) \\\n",
    "    .load_feature(\n",
    "        width=80, height=80, feature_name=\"Uvych2_re.xls\", mapper=read_matrix, transform=None\n",
    "    ) \\\n",
    "    .load_feature(\n",
    "        width=80, height=80, feature_name=\"Uvych2_im.xls\", mapper=read_matrix, transform=None\n",
    "    ) \\\n",
    "    .load_feature(\n",
    "        width=1, height=1, feature_name=\"k0_re.txt\", mapper=read_matrix, transform=None\n",
    "    ) \\\n",
    "    .set_target(\n",
    "        width=80, height=80, target_name=\"W_abs.xls\", mapper=read_matrix, transform=None\n",
    "    ) \\\n",
    "    \n",
    "print(env.train_count, env.val_count)"
   ],
   "metadata": {
    "collapsed": false
   },
   "id": "bb99e54cb7ee76a6",
   "execution_count": null
  },
  {
   "cell_type": "markdown",
   "source": [
    "### Восстанавление $Re\\left[k_{0}\\right]$ по комплексному $y_{выч}$ "
   ],
   "metadata": {
    "collapsed": false
   },
   "id": "e4c4c4c83fe9ad25"
  },
  {
   "cell_type": "code",
   "outputs": [],
   "source": [
    "env.clear_features_and_targets()\n",
    "env \\\n",
    "    .set_batch_size(\n",
    "        train_batch_size=32, val_batch_size=4\n",
    "    ) \\\n",
    "    .load_feature(\n",
    "        width=80, height=80, feature_name=\"Uvych2_re.xls\", mapper=read_matrix, transform=None\n",
    "    ) \\\n",
    "    .load_feature(\n",
    "        width=80, height=80, feature_name=\"Uvych2_im.xls\", mapper=read_matrix, transform=None\n",
    "    ) \\\n",
    "    .set_target(\n",
    "        width=1, height=1, target_name=\"k0_re.txt\", mapper=read_matrix, transform=None\n",
    "    ) \\\n",
    "    \n",
    "print(env.train_count, env.val_count)"
   ],
   "metadata": {
    "collapsed": false
   },
   "id": "8b4a76babbfb2f9a",
   "execution_count": null
  },
  {
   "cell_type": "markdown",
   "source": [
    "### Восстанавление $\\left|K\\right|$ по комплексному $y_{выч}$ и $Re\\left[k_{0}\\right]$"
   ],
   "metadata": {
    "collapsed": false
   },
   "id": "1a5e791b1f164e4e"
  },
  {
   "cell_type": "code",
   "outputs": [],
   "source": [
    "env.clear_features_and_targets()\n",
    "env \\\n",
    "    .set_batch_size(\n",
    "        train_batch_size=32, val_batch_size=4\n",
    "    ) \\\n",
    "    .load_feature(\n",
    "        width=80, height=80, feature_name=\"Uvych2_re.xls\", mapper=read_matrix, transform=None\n",
    "    ) \\\n",
    "    .load_feature(\n",
    "        width=80, height=80, feature_name=\"Uvych2_im.xls\", mapper=read_matrix, transform=None\n",
    "    ) \\\n",
    "    .load_feature(\n",
    "        width=1, height=1, feature_name=\"k0_re.txt\", mapper=read_matrix, transform=None\n",
    "    ) \\\n",
    "    .set_target(\n",
    "        width=80, height=80, target_name=\"K_abs.xls\", mapper=read_matrix, transform=None\n",
    "    ) \\\n",
    "    \n",
    "print(env.train_count, env.val_count)"
   ],
   "metadata": {
    "collapsed": false
   },
   "id": "e519da959c87ee6c",
   "execution_count": null
  },
  {
   "cell_type": "markdown",
   "source": [
    "### Восстанавление $Re\\left[k_{0}\\right]$ из $\\left|y_{выч}\\right|$ "
   ],
   "metadata": {
    "collapsed": false
   },
   "id": "a219108a74df6ef3"
  },
  {
   "cell_type": "code",
   "outputs": [],
   "source": [
    "env.clear_features_and_targets()\n",
    "env \\\n",
    "    .set_batch_size(\n",
    "        train_batch_size=32, val_batch_size=4\n",
    "    ) \\\n",
    "    .load_feature(\n",
    "        width=80, height=80, feature_name=\"Uvych2_abs.xls\", mapper=read_matrix, transform=None\n",
    "    ) \\\n",
    "    .set_target(\n",
    "        width=1, height=1, target_name=\"k0_re.txt\", mapper=read_matrix, transform=None\n",
    "    ) \\\n",
    "    \n",
    "print(env.train_count, env.val_count)\n"
   ],
   "metadata": {
    "collapsed": false
   },
   "id": "6279371ac461d6a3",
   "execution_count": null
  },
  {
   "cell_type": "markdown",
   "source": [
    "### Восстанавление $\\left|y_{выч}\\right|$ из $\\left|k\\right|$ "
   ],
   "metadata": {
    "collapsed": false
   },
   "id": "790bc71a526bb97f"
  },
  {
   "cell_type": "code",
   "outputs": [],
   "source": [
    "env.clear_features_and_targets()\n",
    "env \\\n",
    "    .set_batch_size(\n",
    "        train_batch_size=8, val_batch_size=4\n",
    "    ) \\\n",
    "    .load_feature(\n",
    "        width=80, height=80, feature_name=\"K_abs.xls\", mapper=read_matrix, transform=None\n",
    "    ) \\\n",
    "    .set_target(\n",
    "        width=80, height=80, target_name=\"Uvych2_abs.xls\", mapper=read_matrix, transform=None\n",
    "    ) \\\n",
    "    \n",
    "print(env.train_count, env.val_count)"
   ],
   "metadata": {
    "collapsed": false
   },
   "id": "561376d972cf5209",
   "execution_count": null
  },
  {
   "cell_type": "markdown",
   "source": [
    "### Восстанавление $\\left|y_{выч}\\right|_{L}$ из $\\left|\\tilde{y}_{выч}\\right|_{L}$ (noised)\n"
   ],
   "metadata": {
    "collapsed": false
   },
   "id": "26de03bb21f8f8ae"
  },
  {
   "cell_type": "code",
   "outputs": [],
   "source": [
    "env.clear_features_and_targets()\n",
    "env \\\n",
    "    .set_batch_size(\n",
    "        train_batch_size=4, val_batch_size=4\n",
    "    ) \\\n",
    "    .load_feature(\n",
    "        width=40, height=80, feature_name=\"Uvych_noised_abs_left.xls\", mapper=read_matrix, transform=None\n",
    "    ) \\\n",
    "    .set_target(\n",
    "        width=40, height=80, target_name=\"Uvych_abs_left.xls\", mapper=read_matrix, transform=None\n",
    "    ) \\\n",
    "    \n",
    "print(env.train_count, env.val_count)"
   ],
   "metadata": {
    "collapsed": false
   },
   "id": "beff9b01a5cee83e",
   "execution_count": null
  },
  {
   "cell_type": "markdown",
   "source": [
    "==================================================================================================================================="
   ],
   "metadata": {
    "collapsed": false
   },
   "id": "2b18d363e1ad1ee9"
  },
  {
   "cell_type": "markdown",
   "source": [
    "## Модели"
   ],
   "metadata": {
    "collapsed": false
   },
   "id": "3246ce4bf1d31fdc"
  },
  {
   "cell_type": "markdown",
   "source": [
    "### VQGAN"
   ],
   "metadata": {
    "collapsed": false
   },
   "id": "408dbb3a20bf19b1"
  },
  {
   "cell_type": "code",
   "outputs": [],
   "source": [
    "env.model = models.vqgan.VQGAN_mod(type('', (object, ), \n",
    "    {'image_channels': 1, 'latent_dim': 256, 'device': env.device_name, \n",
    "     'num_codebook_vectors': 1024, 'beta': 0.25})()).to(env.device)"
   ],
   "metadata": {
    "collapsed": false
   },
   "id": "f7532aec7234e4da",
   "execution_count": null
  },
  {
   "cell_type": "markdown",
   "source": [
    "### U-net"
   ],
   "metadata": {
    "collapsed": false
   },
   "id": "a7146e40bc9f5436"
  },
  {
   "cell_type": "code",
   "outputs": [],
   "source": [
    "env.model = models.UnetAutoencoder.UNetAuto(num_channels=64, num_out_channels=1, max_features=256).to(env.device)"
   ],
   "metadata": {
    "collapsed": false,
    "ExecuteTime": {
     "end_time": "2024-03-03T12:09:00.284919702Z",
     "start_time": "2024-03-03T12:09:00.217120283Z"
    }
   },
   "id": "dd5d6f80d1f3401e",
   "execution_count": 3
  },
  {
   "cell_type": "markdown",
   "source": [
    "### Hybrid Perception Block "
   ],
   "metadata": {
    "collapsed": false
   },
   "id": "f80a415d76b56130"
  },
  {
   "cell_type": "code",
   "outputs": [],
   "source": [
    "from ITTR_pytorch import HPB\n",
    "env.model = HPB(\n",
    "    dim = 1,              # dimension\n",
    "    dim_head = 80,          # dimension per attention head\n",
    "    heads = 8,              # number of attention heads\n",
    "    attn_height_top_k = 16, # number of top indices to select along height, for the attention pruning\n",
    "    attn_width_top_k = 16,  # number of top indices to select along width, for the attention pruning\n",
    "    attn_dropout = 0.,      # attn dropout\n",
    "    ff_mult = 4,            # expansion factor of feedforward\n",
    "    ff_dropout = 0.         # feedforward dropout\n",
    ").to(env.device)"
   ],
   "metadata": {
    "collapsed": false
   },
   "id": "de30d2240ca646d1",
   "execution_count": null
  },
  {
   "cell_type": "markdown",
   "source": [
    "### Dual-Pruned Self-Attention (DPSA) block"
   ],
   "metadata": {
    "collapsed": false
   },
   "id": "471bc24a2756bbb2"
  },
  {
   "cell_type": "code",
   "outputs": [],
   "source": [
    "from ITTR_pytorch import DPSA\n",
    "\n",
    "\n",
    "env.model = DPSA(\n",
    "    dim = 1,         # dimension\n",
    "    dim_head = 80,     # dimension per attention head\n",
    "    heads = 8,         # number of attention heads\n",
    "    height_top_k = 48, # number of top indices to select along height, for the attention pruning\n",
    "    width_top_k = 48,  # number of top indices to select along width, for the attention pruning\n",
    "    dropout = 0.       # attn dropout\n",
    ").to(env.device)"
   ],
   "metadata": {
    "collapsed": false
   },
   "id": "fa71b8a8ca7d7195",
   "execution_count": null
  },
  {
   "cell_type": "markdown",
   "source": [
    "### Новая локальная модель"
   ],
   "metadata": {
    "collapsed": false
   },
   "id": "330e31f09f1b49e3"
  },
  {
   "cell_type": "code",
   "outputs": [],
   "source": [],
   "metadata": {
    "collapsed": false
   },
   "id": "d400082e81d1e3a3"
  },
  {
   "cell_type": "code",
   "outputs": [],
   "source": [
    "env.init_model(models.autoencoders.ConvAutoencoderLuma5)"
   ],
   "metadata": {
    "collapsed": false
   },
   "id": "a3d2a624eaa2ae79",
   "execution_count": null
  },
  {
   "cell_type": "code",
   "outputs": [],
   "source": [
    "env.model = ThisModel(80).to(env.device)"
   ],
   "metadata": {
    "collapsed": false
   },
   "id": "f7a53f417f6db89c",
   "execution_count": null
  },
  {
   "cell_type": "code",
   "outputs": [],
   "source": [
    "env.model = models.autoencoders.ConvAutoencoderLumaRelu(in_channels=64, out_channels=1).to(env.device)"
   ],
   "metadata": {
    "collapsed": false,
    "ExecuteTime": {
     "end_time": "2024-03-03T22:08:41.954375385Z",
     "start_time": "2024-03-03T22:08:41.882954123Z"
    }
   },
   "id": "43b042a341bb5f26",
   "execution_count": 10
  },
  {
   "cell_type": "code",
   "outputs": [],
   "source": [],
   "metadata": {
    "collapsed": false
   },
   "id": "97e5f507d45f3280"
  },
  {
   "cell_type": "markdown",
   "source": [
    "### Импорт претренерованной модели"
   ],
   "metadata": {
    "collapsed": false
   },
   "id": "51234eb89764a30e"
  },
  {
   "cell_type": "code",
   "outputs": [],
   "source": [
    "env.load_model(model_type=\"pt\")"
   ],
   "metadata": {
    "collapsed": false
   },
   "id": "44a9ffa270a9681b",
   "execution_count": null
  },
  {
   "cell_type": "markdown",
   "source": [
    "==================================================================================================================================="
   ],
   "metadata": {
    "collapsed": false
   },
   "id": "c7a16533f93734e9"
  },
  {
   "cell_type": "markdown",
   "source": [
    "## Визуализация батча валидационного датасета"
   ],
   "metadata": {
    "collapsed": false
   },
   "id": "abea5050bd1c71c7"
  },
  {
   "cell_type": "code",
   "outputs": [
    {
     "name": "stderr",
     "output_type": "stream",
     "text": [
      "/home/amedvedev/projects/python/DenoisingCNN/venv/lib/python3.10/site-packages/torch/_tensor.py:868: UserWarning: non-inplace resize is deprecated\n",
      "  warnings.warn(\"non-inplace resize is deprecated\")\n"
     ]
    },
    {
     "data": {
      "text/plain": "<Figure size 1000x1000 with 16 Axes>",
      "image/png": "[encoded data removed]"
     },
     "metadata": {},
     "output_type": "display_data"
    }
   ],
   "source": [
    "env.plot_batch(concrete=5, figsize=(10, 10), format=\"%.1f\", wspace=0.0, hspace=0.2)\n"
   ],
   "metadata": {
    "collapsed": false,
    "ExecuteTime": {
     "end_time": "2024-03-03T22:08:49.844850063Z",
     "start_time": "2024-03-03T22:08:48.195800727Z"
    }
   },
   "id": "5b50438865a64fb9",
   "execution_count": 11
  },
  {
   "cell_type": "code",
   "outputs": [],
   "source": [
    "env.plot_batch_with_inputs(concrete=1, figsize=(10, 10), format=\"%.1f\", wspace=0.0, hspace=0.2)"
   ],
   "metadata": {
    "collapsed": false
   },
   "id": "48f961f7452c3726",
   "execution_count": null
  },
  {
   "cell_type": "markdown",
   "source": [
    "==================================================================================================================================="
   ],
   "metadata": {
    "collapsed": false
   },
   "id": "42d6f23ecdd5b6bf"
  },
  {
   "cell_type": "markdown",
   "source": [
    "## Численные значения отклонений"
   ],
   "metadata": {
    "collapsed": false
   },
   "id": "2f53f81de64e753f"
  },
  {
   "cell_type": "code",
   "outputs": [
    {
     "name": "stdout",
     "output_type": "stream",
     "text": [
      "[1.0, 1.0, 1.0, 1.0, 1.0, 1.0, 1.0, 1.0, 0.9696030616760254, 1.0, 1.0, 0.9676789045333862, 0.9530405402183533]\n",
      "Среднее отклонение по значениям в векторе: 0.6760779710916373\n",
      "Максимальное отклонение по значениям в векторе: 0.7639027833938599\n",
      "\n",
      "Начальное среднее отклонение по значениям в векторе: 1.0\n",
      "\n",
      "Dataset Средняя относительная ошибка: nan\n",
      "Dataset Максимальная относительная ошибка: nan\n",
      "\n",
      "Средняя относительная ошибка: nan\n",
      "Максимальная относительная ошибка: nan\n"
     ]
    }
   ],
   "source": [
    "def test():\n",
    "    losses = []\n",
    "    errors = []\n",
    "    init_errors = []\n",
    "    losses_dataset = []\n",
    "    with torch.no_grad():\n",
    "    \n",
    "        for row in zip(*env.val_features_loaders + [env.val_target_loader]):\n",
    "            data_features = list(row)\n",
    "            data_target = data_features.pop()\n",
    "            outputs = env.model(*data_features) #* 65.\n",
    "            losses_dataset_step = min([torch.max(torch.abs(data_features[0][i] - data_target)).detach().tolist()\n",
    "                                       for i in range(len(data_features))])\n",
    "            losses_dataset.append(losses_dataset_step)\n",
    "            loss = torch.max(torch.abs(outputs - data_target))\n",
    "            init_error = torch.mean(torch.abs(data_features[0] - data_target) / data_target)\n",
    "            error = torch.mean(torch.abs(outputs - data_target) / data_target)\n",
    "            losses.append(loss.detach().tolist())\n",
    "            errors.append(error.detach().tolist())\n",
    "            init_errors.append(init_error.detach().tolist())\n",
    "            #print(outputs, data_target)\n",
    "    print(losses_dataset)\n",
    "    print(\"Среднее отклонение по значениям в векторе:\", sum(losses) / len(losses))\n",
    "    print(\"Максимальное отклонение по значениям в векторе:\", max(losses))\n",
    "    print()\n",
    "    print(\"Начальное среднее отклонение по значениям в векторе:\", max(losses_dataset))\n",
    "    print()\n",
    "    print(\"Dataset Средняя относительная ошибка:\", sum(init_errors) / len(init_errors))\n",
    "    print(\"Dataset Максимальная относительная ошибка:\", max(init_errors))\n",
    "    print()\n",
    "    print(\"Средняя относительная ошибка:\", sum(errors) / len(errors))\n",
    "    print(\"Максимальная относительная ошибка:\", max(errors))\n",
    "test()"
   ],
   "metadata": {
    "collapsed": false,
    "ExecuteTime": {
     "end_time": "2024-03-03T21:58:33.979155588Z",
     "start_time": "2024-03-03T21:58:33.637801487Z"
    }
   },
   "id": "ea5623a8213b55c5",
   "execution_count": 22
  },
  {
   "cell_type": "markdown",
   "source": [
    "==================================================================================================================================="
   ],
   "metadata": {
    "collapsed": false
   },
   "id": "fe24def86187324e"
  },
  {
   "cell_type": "markdown",
   "source": [
    "## Training"
   ],
   "metadata": {
    "collapsed": false
   },
   "id": "7400b258c058938"
  },
  {
   "cell_type": "code",
   "outputs": [],
   "source": [
    "from common.losses import MseCoeffLoss, L1CoeffLoss"
   ],
   "metadata": {
    "collapsed": false,
    "ExecuteTime": {
     "end_time": "2024-03-03T21:46:12.069057807Z",
     "start_time": "2024-03-03T21:46:12.042554353Z"
    }
   },
   "id": "d719c0b99ae4d1bc",
   "execution_count": 9
  },
  {
   "cell_type": "code",
   "outputs": [],
   "source": [
    "# optimizer = torch.optim.Adam(env.model.parameters(), lr=0.00001)\n",
    "# #scheduler = torch.optim.lr_scheduler.LambdaLR(optimizer, lr_lambda=lambda epoch: 0.65 ** epoch)\n",
    "# \n",
    "# env.train(3, step_saving=False, step_plotting=False,\n",
    "#           optimizer=optimizer, scheduler=None, \n",
    "#           criterion=MyLoss(reduce=\"none\", reduction=\"none\", coeff=10000000.0))"
   ],
   "metadata": {
    "collapsed": false
   },
   "id": "61a0c8f4af7bc41b"
  },
  {
   "cell_type": "code",
   "outputs": [
    {
     "name": "stderr",
     "output_type": "stream",
     "text": [
      "/home/amedvedev/projects/python/DenoisingCNN/venv/lib/python3.10/site-packages/torch/nn/_reduction.py:42: UserWarning: size_average and reduce args will be deprecated, please use reduction='mean' instead.\n",
      "  warnings.warn(warning.format(ret))\n"
     ]
    },
    {
     "name": "stdout",
     "output_type": "stream",
     "text": [
      "Training progress: |██████████████████████████████████████████████████| 100.0% Complete | \r\n",
      "\n",
      "Validating progress: |██████████████████████████████████████████████████| 100.0% Complete | \r\n",
      "\n",
      "Epoch: 1 \tTraining Loss: 3.032132 \tValidating Loss: 0.695596 \tTime: 0.42 m\n",
      "\n",
      "====================================================================================================\n",
      "Training progress: |██████████████████████████████████████████████████| 100.0% Complete | \r\n",
      "\n",
      "Validating progress: |██████████████████████████████████████████████████| 100.0% Complete | \r\n",
      "\n",
      "Epoch: 2 \tTraining Loss: 0.691567 \tValidating Loss: 0.697662 \tTime: 0.42 m\n",
      "\n",
      "====================================================================================================\n",
      "Training progress: |██████████████████████████████████████████████████| 100.0% Complete | \r\n",
      "\n",
      "Validating progress: |██████████████████████████████████████████████████| 100.0% Complete | \r\n",
      "\n",
      "Epoch: 3 \tTraining Loss: 0.691231 \tValidating Loss: 0.697039 \tTime: 0.42 m\n",
      "\n",
      "====================================================================================================\n",
      "Training progress: |██████████████████████████████████████████████████| 100.0% Complete | \r\n",
      "\n",
      "Validating progress: |██████████████████████████████████████████████████| 100.0% Complete | \r\n",
      "\n",
      "Epoch: 4 \tTraining Loss: 0.691201 \tValidating Loss: 0.695897 \tTime: 0.42 m\n",
      "\n",
      "====================================================================================================\n",
      "Training progress: |██████████████████████████████████████████████████| 100.0% Complete | \r\n",
      "\n",
      "Validating progress: |██████████████████████████████████████████████████| 100.0% Complete | \r\n",
      "\n",
      "Epoch: 5 \tTraining Loss: 0.691134 \tValidating Loss: 0.695971 \tTime: 0.42 m\n",
      "\n",
      "====================================================================================================\n",
      "Training progress: |██████████████████████████████████████████████████| 100.0% Complete | \r\n",
      "\n",
      "Validating progress: |██████████████████████████████████████████████████| 100.0% Complete | \r\n",
      "\n",
      "Epoch: 6 \tTraining Loss: 0.690941 \tValidating Loss: 0.697842 \tTime: 0.42 m\n",
      "\n",
      "====================================================================================================\n",
      "Training progress: |██████████████████████████████████████████████████| 100.0% Complete | \r\n",
      "\n",
      "Validating progress: |██████████████████████████████████████████████████| 100.0% Complete | \r\n",
      "\n",
      "Epoch: 7 \tTraining Loss: 0.691159 \tValidating Loss: 0.693802 \tTime: 0.42 m\n",
      "\n",
      "====================================================================================================\n",
      "Training progress: |██████████████████████████████████████████████████| 100.0% Complete | \r\n",
      "\n",
      "Validating progress: |██████████████████████████████████████████████████| 100.0% Complete | \r\n",
      "\n",
      "Epoch: 8 \tTraining Loss: 0.691508 \tValidating Loss: 0.693448 \tTime: 0.42 m\n",
      "\n",
      "====================================================================================================\n",
      "Training progress: |██████████████████████████████████████████████████| 100.0% Complete | \r\n",
      "\n",
      "Validating progress: |██████████████████████████████████████████████████| 100.0% Complete | \r\n",
      "\n",
      "Epoch: 9 \tTraining Loss: 0.691607 \tValidating Loss: 0.693642 \tTime: 0.42 m\n",
      "\n",
      "====================================================================================================\n",
      "Training progress: |██████████████████████████████████████████████████| 100.0% Complete | \r\n",
      "\n",
      "Validating progress: |██████████████████████████████████████████████████| 100.0% Complete | \r\n",
      "\n",
      "Epoch: 10 \tTraining Loss: 0.691351 \tValidating Loss: 0.693976 \tTime: 0.42 m\n",
      "\n",
      "====================================================================================================\n"
     ]
    }
   ],
   "source": [
    "env.train(10, step_saving=False, step_plotting=False,\n",
    "          optimizer=torch.optim.Adam(env.model.parameters(), lr=0.01), scheduler=None, \n",
    "          criterion=torch.nn.BCELoss(reduction=\"none\", reduce=\"none\"))"
   ],
   "metadata": {
    "collapsed": false,
    "ExecuteTime": {
     "end_time": "2024-03-03T12:47:22.100793075Z",
     "start_time": "2024-03-03T12:43:09.128144776Z"
    }
   },
   "id": "bf3fb411a2c74ce7",
   "execution_count": 13
  },
  {
   "cell_type": "code",
   "outputs": [
    {
     "name": "stdout",
     "output_type": "stream",
     "text": [
      "Training progress: |██████████████████████████████████████████████████| 100.0% Complete | \r\n",
      "\n",
      "Validating progress: |██████████████████████████████████████████████████| 100.0% Complete | \r\n",
      "\n",
      "Epoch: 1 \tTraining Loss: 0.006565 \tValidating Loss: 0.029685 \tTime: 0.10 m\n",
      "\n",
      "====================================================================================================\n",
      "Training progress: |██████████████████████████████████████████████████| 100.0% Complete | \r\n",
      "\n",
      "Validating progress: |██████████████████████████████████████████████████| 100.0% Complete | \r\n",
      "\n",
      "Epoch: 2 \tTraining Loss: 0.004888 \tValidating Loss: 0.029345 \tTime: 0.10 m\n",
      "\n",
      "====================================================================================================\n",
      "\n",
      "Training progress: |██████████████████████████████████████████████████| 100.0% Complete | \r\n",
      "\n",
      "Validating progress: |██████████████████████████████████████████████████| 100.0% Complete | \r\n",
      "\n",
      "Epoch: 3 \tTraining Loss: 0.003504 \tValidating Loss: 0.029815 \tTime: 0.10 m\n",
      "\n",
      "====================================================================================================\n",
      "Training progress: |██████████████████████████████████████████████████| 100.0% Complete | \r\n",
      "\n",
      "Validating progress: |██████████████████████████████████████████████████| 100.0% Complete | \r\n",
      "\n",
      "Epoch: 4 \tTraining Loss: 0.003225 \tValidating Loss: 0.030176 \tTime: 0.10 m\n",
      "\n",
      "====================================================================================================\n",
      "Training progress: |██████████████████████████████████████████████████| 100.0% Complete | \r\n",
      "\n",
      "Validating progress: |██████████████████████████████████████████████████| 100.0% Complete | \r\n",
      "\n",
      "Epoch: 5 \tTraining Loss: 0.003131 \tValidating Loss: 0.030372 \tTime: 0.10 m\n",
      "\n",
      "====================================================================================================\n",
      "Training progress: |██████████████████████████████████████████████████| 100.0% Complete | \r\n",
      "\n",
      "Validating progress: |██████████████████████████████████████████████████| 100.0% Complete | \r\n",
      "\n",
      "Epoch: 6 \tTraining Loss: 0.002919 \tValidating Loss: 0.030544 \tTime: 0.10 m\n",
      "\n",
      "====================================================================================================\n",
      "Training progress: |██████████████████████████████████████████████████| 100.0% Complete | \r\n",
      "\n",
      "Validating progress: |██████████████████████████████████████████████████| 100.0% Complete | \r\n",
      "\n",
      "Epoch: 7 \tTraining Loss: 0.002840 \tValidating Loss: 0.031004 \tTime: 0.10 m\n",
      "\n",
      "====================================================================================================\n",
      "Training progress: |██████████████████████████████████████████████████| 100.0% Complete | \r\n",
      "\n",
      "Validating progress: |██████████████████████████████████████████████████| 100.0% Complete | \r\n",
      "\n",
      "Epoch: 8 \tTraining Loss: 0.002789 \tValidating Loss: 0.032214 \tTime: 0.10 m\n",
      "\n",
      "====================================================================================================\n",
      "Training progress: |██████████████████████████████████████████████████| 100.0% Complete | \r\n",
      "\n",
      "Validating progress: |██████████████████████████████████████████████████| 100.0% Complete | \r\n",
      "\n",
      "Epoch: 9 \tTraining Loss: 0.002656 \tValidating Loss: 0.032241 \tTime: 0.10 m\n",
      "\n",
      "====================================================================================================\n",
      "Training progress: |██████████████████████████████████████████████████| 100.0% Complete | \r\n",
      "\n",
      "Validating progress: |██████████████████████████████████████████████████| 100.0% Complete | \r\n",
      "\n",
      "Epoch: 10 \tTraining Loss: 0.002539 \tValidating Loss: 0.032628 \tTime: 0.10 m\n",
      "\n",
      "====================================================================================================\n",
      "Training progress: |██████████████████████████████████████████████████| 100.0% Complete | \r\n",
      "\n",
      "Validating progress: |██████████████████████████████████████████████████| 100.0% Complete | \r\n",
      "\n",
      "Epoch: 11 \tTraining Loss: 0.002499 \tValidating Loss: 0.033148 \tTime: 0.10 m\n",
      "\n",
      "====================================================================================================\n",
      "Training progress: |██████████████████████████████████████████████████| 100.0% Complete | \r\n",
      "\n",
      "Validating progress: |██████████████████████████████████████████████████| 100.0% Complete | \r\n",
      "\n",
      "Epoch: 12 \tTraining Loss: 0.002459 \tValidating Loss: 0.033097 \tTime: 0.10 m\n",
      "\n",
      "====================================================================================================\n",
      "Training progress: |██████████████████████████████████████████████████| 100.0% Complete | \r\n",
      "\n",
      "Validating progress: |██████████████████████████████████████████████████| 100.0% Complete | \r\n",
      "\n",
      "Epoch: 13 \tTraining Loss: 0.002412 \tValidating Loss: 0.033531 \tTime: 0.10 m\n",
      "\n",
      "====================================================================================================\n",
      "Training progress: |██████████████████████████████████████████████████| 100.0% Complete | \r\n",
      "\n",
      "Validating progress: |██████████████████████████████████████████████████| 100.0% Complete | \r\n",
      "\n",
      "Epoch: 14 \tTraining Loss: 0.002525 \tValidating Loss: 0.034268 \tTime: 0.10 m\n",
      "\n",
      "====================================================================================================\n",
      "Training progress: |██████████████████████████████████████████████████| 100.0% Complete | \r\n",
      "\n",
      "Validating progress: |██████████████████████████████████████████████████| 100.0% Complete | \r\n",
      "\n",
      "Epoch: 15 \tTraining Loss: 0.002654 \tValidating Loss: 0.034050 \tTime: 0.10 m\n",
      "\n",
      "====================================================================================================\n",
      "Training progress: |██████████████████████████████████████████████████| 100.0% Complete | \r\n",
      "\n",
      "Validating progress: |██████████████████████████████████████████████████| 100.0% Complete | \r\n",
      "\n",
      "Epoch: 16 \tTraining Loss: 0.002639 \tValidating Loss: 0.033661 \tTime: 0.10 m\n",
      "\n",
      "====================================================================================================\n",
      "Training progress: |██████████████████████████████████████████████████| 100.0% Complete | \r\n",
      "\n",
      "Validating progress: |██████████████████████████████████████████████████| 100.0% Complete | \r\n",
      "\n",
      "Epoch: 17 \tTraining Loss: 0.002470 \tValidating Loss: 0.034085 \tTime: 0.10 m\n",
      "\n",
      "====================================================================================================\n",
      "Training progress: |██████████████████████████████████████████████████| 100.0% Complete | \r\n",
      "\n",
      "Validating progress: |██████████████████████████████████████████████████| 100.0% Complete | \r\n",
      "\n",
      "Epoch: 18 \tTraining Loss: 0.002437 \tValidating Loss: 0.034427 \tTime: 0.10 m\n",
      "\n",
      "====================================================================================================\n",
      "Training progress: |██████████████████████████████████████████████████| 100.0% Complete | \r\n",
      "\n",
      "Validating progress: |██████████████████████████████████████████████████| 100.0% Complete | \r\n",
      "\n",
      "Epoch: 19 \tTraining Loss: 0.002450 \tValidating Loss: 0.034811 \tTime: 0.10 m\n",
      "\n",
      "====================================================================================================\n",
      "Training progress: |██████████████████████████████████████████████████| 100.0% Complete | \r\n",
      "\n",
      "Validating progress: |██████████████████████████████████████████████████| 100.0% Complete | \r\n",
      "\n",
      "Epoch: 20 \tTraining Loss: 0.002389 \tValidating Loss: 0.035094 \tTime: 0.10 m\n",
      "\n",
      "====================================================================================================\n",
      "Training progress: |██████████████████████████████████████████████████| 100.0% Complete | \r\n",
      "\n",
      "Validating progress: |██████████████████████████████████████████████████| 100.0% Complete | \r\n",
      "\n",
      "Epoch: 21 \tTraining Loss: 0.002355 \tValidating Loss: 0.035004 \tTime: 0.10 m\n",
      "\n",
      "====================================================================================================\n",
      "Training progress: |██████████████████████████████████████████████████| 100.0% Complete | \r\n",
      "\n",
      "Validating progress: |██████████████████████████████████████████████████| 100.0% Complete | \r\n",
      "\n",
      "Epoch: 22 \tTraining Loss: 0.002344 \tValidating Loss: 0.035085 \tTime: 0.10 m\n",
      "\n",
      "====================================================================================================\n",
      "Training progress: |██████████████████████████████████████████████████| 100.0% Complete | \r\n",
      "\n",
      "Validating progress: |██████████████████████████████████████████████████| 100.0% Complete | \r\n",
      "\n",
      "Epoch: 23 \tTraining Loss: 0.002325 \tValidating Loss: 0.035162 \tTime: 0.10 m\n",
      "\n",
      "====================================================================================================\n",
      "Training progress: |██████████████████████████████████████████████████| 100.0% Complete | \r\n",
      "\n",
      "Validating progress: |██████████████████████████████████████████████████| 100.0% Complete | \r\n",
      "\n",
      "Epoch: 24 \tTraining Loss: 0.002288 \tValidating Loss: 0.035311 \tTime: 0.10 m\n",
      "\n",
      "====================================================================================================\n",
      "Training progress: |██████████████████████████████████████████████████| 100.0% Complete | \r\n",
      "\n",
      "Validating progress: |██████████████████████████████████████████████████| 100.0% Complete | \r\n",
      "\n",
      "Epoch: 25 \tTraining Loss: 0.002279 \tValidating Loss: 0.035263 \tTime: 0.10 m\n",
      "\n",
      "====================================================================================================\n",
      "Training progress: |██████████████████████████████████████████████████| 100.0% Complete | \r\n",
      "\n",
      "Validating progress: |██████████████████████████████████████████████████| 100.0% Complete | \r\n",
      "\n",
      "Epoch: 26 \tTraining Loss: 0.002222 \tValidating Loss: 0.035506 \tTime: 0.10 m\n",
      "\n",
      "====================================================================================================\n",
      "Training progress: |██████████████████████████████████████████████████| 100.0% Complete | \r\n",
      "\n",
      "Validating progress: |██████████████████████████████████████████████████| 100.0% Complete | \r\n",
      "\n",
      "Epoch: 27 \tTraining Loss: 0.002209 \tValidating Loss: 0.035240 \tTime: 0.10 m\n",
      "\n",
      "====================================================================================================\n",
      "Training progress: |██████████████████████████████████████████████████| 100.0% Complete | \r\n",
      "\n",
      "Validating progress: |██████████████████████████████████████████████████| 100.0% Complete | \r\n",
      "\n",
      "Epoch: 28 \tTraining Loss: 0.002183 \tValidating Loss: 0.035358 \tTime: 0.10 m\n",
      "\n",
      "====================================================================================================\n",
      "Training progress: |██████████████████████████████████████████████████| 100.0% Complete | \r\n",
      "\n",
      "Validating progress: |██████████████████████████████████████████████████| 100.0% Complete | \r\n",
      "\n",
      "Epoch: 29 \tTraining Loss: 0.002160 \tValidating Loss: 0.035043 \tTime: 0.10 m\n",
      "\n",
      "====================================================================================================\n",
      "Training progress: |██████████████████████████████████████████████████| 100.0% Complete | \r\n",
      "\n",
      "Validating progress: |██████████████████████████████████████████████████| 100.0% Complete | \r\n",
      "\n",
      "Epoch: 30 \tTraining Loss: 0.002159 \tValidating Loss: 0.035737 \tTime: 0.10 m\n",
      "\n",
      "====================================================================================================\n"
     ]
    }
   ],
   "source": [
    "env.train(30, step_saving=False, step_plotting=False,\n",
    "          optimizer=torch.optim.Adam(env.model.parameters(), lr=0.001), scheduler=None, \n",
    "          criterion=MseCoeffLoss(reduce=\"none\", reduction=\"none\", coeff=1.0))"
   ],
   "metadata": {
    "collapsed": false,
    "ExecuteTime": {
     "end_time": "2024-03-03T12:13:47.306769251Z",
     "start_time": "2024-03-03T12:10:45.606580704Z"
    }
   },
   "id": "f6d590f6737e4b9f",
   "execution_count": 10
  },
  {
   "cell_type": "markdown",
   "source": [
    "№1"
   ],
   "metadata": {
    "collapsed": false
   },
   "id": "bd8f6d93e53eb121"
  },
  {
   "cell_type": "code",
   "outputs": [
    {
     "ename": "NameError",
     "evalue": "name 'MseCoeffLoss' is not defined",
     "output_type": "error",
     "traceback": [
      "\u001B[0;31m---------------------------------------------------------------------------\u001B[0m",
      "\u001B[0;31mNameError\u001B[0m                                 Traceback (most recent call last)",
      "Cell \u001B[0;32mIn[8], line 6\u001B[0m\n\u001B[1;32m      1\u001B[0m optimizer \u001B[38;5;241m=\u001B[39m torch\u001B[38;5;241m.\u001B[39moptim\u001B[38;5;241m.\u001B[39mAdam(env\u001B[38;5;241m.\u001B[39mmodel\u001B[38;5;241m.\u001B[39mparameters(), lr\u001B[38;5;241m=\u001B[39m\u001B[38;5;241m0.0001\u001B[39m)\n\u001B[1;32m      2\u001B[0m \u001B[38;5;66;03m#scheduler = torch.optim.lr_scheduler.LambdaLR(optimizer, lr_lambda=lambda epoch: 0.65 ** epoch)\u001B[39;00m\n\u001B[1;32m      4\u001B[0m env\u001B[38;5;241m.\u001B[39mtrain(\u001B[38;5;241m5\u001B[39m, step_saving\u001B[38;5;241m=\u001B[39m\u001B[38;5;28;01mTrue\u001B[39;00m, step_plotting\u001B[38;5;241m=\u001B[39m\u001B[38;5;28;01mFalse\u001B[39;00m,\n\u001B[1;32m      5\u001B[0m           optimizer\u001B[38;5;241m=\u001B[39moptimizer, scheduler\u001B[38;5;241m=\u001B[39m\u001B[38;5;28;01mNone\u001B[39;00m, \n\u001B[0;32m----> 6\u001B[0m           criterion\u001B[38;5;241m=\u001B[39m\u001B[43mMseCoeffLoss\u001B[49m(reduce\u001B[38;5;241m=\u001B[39m\u001B[38;5;124m\"\u001B[39m\u001B[38;5;124mnone\u001B[39m\u001B[38;5;124m\"\u001B[39m, reduction\u001B[38;5;241m=\u001B[39m\u001B[38;5;124m\"\u001B[39m\u001B[38;5;124mnone\u001B[39m\u001B[38;5;124m\"\u001B[39m, coeff\u001B[38;5;241m=\u001B[39m\u001B[38;5;241m1.0\u001B[39m))\n",
      "\u001B[0;31mNameError\u001B[0m: name 'MseCoeffLoss' is not defined"
     ]
    }
   ],
   "source": [
    "optimizer = torch.optim.Adam(env.model.parameters(), lr=0.0001)\n",
    "#scheduler = torch.optim.lr_scheduler.LambdaLR(optimizer, lr_lambda=lambda epoch: 0.65 ** epoch)\n",
    "\n",
    "env.train(5, step_saving=True, step_plotting=False,\n",
    "          optimizer=optimizer, scheduler=None, \n",
    "          criterion=MseCoeffLoss(reduce=\"none\", reduction=\"none\", coeff=1.0))"
   ],
   "metadata": {
    "collapsed": false,
    "ExecuteTime": {
     "end_time": "2024-03-03T21:46:08.355473604Z",
     "start_time": "2024-03-03T21:46:08.265291522Z"
    }
   },
   "id": "af5a1c6ccdaaa722",
   "execution_count": 8
  },
  {
   "cell_type": "code",
   "outputs": [],
   "source": [
    "def warmup(current_step: int):\n",
    "    if current_step < args.warmup_steps:  # current_step / warmup_steps * base_lr\n",
    "        return float(current_step / args.warmup_steps)\n",
    "    else:                                 # (num_training_steps - current_step) / (num_training_steps - warmup_steps) * base_lr\n",
    "        return max(0.0, float(args.training_steps - current_step) / float(max(1, args.training_steps - args.warmup_steps)))"
   ],
   "metadata": {
    "collapsed": false
   },
   "id": "d22a2eda4f7e6b40"
  },
  {
   "cell_type": "code",
   "outputs": [
    {
     "name": "stdout",
     "output_type": "stream",
     "text": [
      "Training progress: |██████████████████████████████████████████████████| 100.0% Complete | \r\n",
      "\n",
      "Validating progress: |██████████████████████████████████████████████████| 100.0% Complete | \r\n",
      "\n",
      "Epoch: 1 \tTraining Loss: 0.140547 \tValidating Loss: 0.078234 \tTime: 0.14 m\n",
      "\n",
      "====================================================================================================\n",
      "Training progress: |██████████████████████████████████████████████████| 100.0% Complete | \r\n",
      "\n",
      "Validating progress: |██████████████████████████████████████████████████| 100.0% Complete | \r\n",
      "\n",
      "Epoch: 2 \tTraining Loss: 0.082014 \tValidating Loss: 0.092198 \tTime: 0.14 m\n",
      "\n",
      "====================================================================================================\n",
      "Training progress: |██████████████████████████████████████████████████| 100.0% Complete | \r\n",
      "\n",
      "Validating progress: |██████████████████████████████████████████████████| 100.0% Complete | \r\n",
      "\n",
      "Epoch: 3 \tTraining Loss: 0.068777 \tValidating Loss: 0.068129 \tTime: 0.14 m\n",
      "\n",
      "====================================================================================================\n",
      "Training progress: |██████████████████████████████████████████████████| 100.0% Complete | \r\n",
      "\n",
      "Validating progress: |██████████████████████████████████████████████████| 100.0% Complete | \r\n",
      "\n",
      "Epoch: 4 \tTraining Loss: 0.062002 \tValidating Loss: 0.059518 \tTime: 0.14 m\n",
      "\n",
      "====================================================================================================\n",
      "Training progress: |██████████████████████████████████████████████████| 100.0% Complete | \r\n",
      "\n",
      "Validating progress: |██████████████████████████████████████████████████| 100.0% Complete | \r\n",
      "\n",
      "Epoch: 5 \tTraining Loss: 0.061102 \tValidating Loss: 0.089963 \tTime: 0.14 m\n",
      "\n",
      "====================================================================================================\n",
      "Training progress: |██████████████████████████████████████████████████| 100.0% Complete | \r\n",
      "\n",
      "Validating progress: |██████████████████████████████████████████████████| 100.0% Complete | \r\n",
      "\n",
      "Epoch: 6 \tTraining Loss: 0.067014 \tValidating Loss: 0.061291 \tTime: 0.14 m\n",
      "\n",
      "====================================================================================================\n"
     ]
    }
   ],
   "source": [
    "env.train(6 , step_saving=False, step_plotting=False,\n",
    "          optimizer=torch.optim.Adam(env.model.parameters(), lr=0.001), scheduler=None, \n",
    "          criterion=torch.nn.L1Loss())\n"
   ],
   "metadata": {
    "collapsed": false,
    "ExecuteTime": {
     "end_time": "2024-03-03T21:52:23.460480192Z",
     "start_time": "2024-03-03T21:51:33.926840987Z"
    }
   },
   "id": "949e3d24fe20979a",
   "execution_count": 17
  },
  {
   "cell_type": "markdown",
   "source": [
    "## Сохранение модели"
   ],
   "metadata": {
    "collapsed": false
   },
   "id": "7541d5d68b928c4"
  },
  {
   "cell_type": "code",
   "outputs": [],
   "source": [
    "env.save(onnx=False, pth=False)"
   ],
   "metadata": {
    "collapsed": false,
    "ExecuteTime": {
     "end_time": "2024-03-03T21:50:59.476479274Z",
     "start_time": "2024-03-03T21:50:59.406814329Z"
    }
   },
   "id": "e62d9f311dc8dda8",
   "execution_count": 16
  },
  {
   "cell_type": "markdown",
   "source": [
    "## Loss visualisation"
   ],
   "metadata": {
    "collapsed": false
   },
   "id": "44bedf23f380e449"
  },
  {
   "cell_type": "code",
   "outputs": [],
   "source": [],
   "metadata": {
    "collapsed": false
   },
   "id": "b7aceee8f5f0b27a"
  },
  {
   "cell_type": "code",
   "outputs": [
    {
     "data": {
      "text/plain": "<Figure size 640x480 with 1 Axes>",
      "image/png": "[encoded data removed]"
     },
     "metadata": {},
     "output_type": "display_data"
    }
   ],
   "source": [
    "env.show_metrics(n_last=50, train=True, val=True)"
   ],
   "metadata": {
    "collapsed": false,
    "ExecuteTime": {
     "end_time": "2024-03-03T19:40:12.026409376Z",
     "start_time": "2024-03-03T19:40:11.842934361Z"
    }
   },
   "id": "d7bd5468be1b1615",
   "execution_count": 15
  },
  {
   "cell_type": "markdown",
   "source": [
    "## Clear memory"
   ],
   "metadata": {
    "collapsed": false
   },
   "id": "aef325b7fe949de1"
  },
  {
   "cell_type": "code",
   "outputs": [
    {
     "data": {
      "text/plain": "5809"
     },
     "execution_count": 18,
     "metadata": {},
     "output_type": "execute_result"
    }
   ],
   "source": [
    "import gc\n",
    "gc.collect()\n"
   ],
   "metadata": {
    "collapsed": false,
    "ExecuteTime": {
     "end_time": "2024-03-03T12:04:13.091437310Z",
     "start_time": "2024-03-03T12:04:13.084227192Z"
    }
   },
   "id": "b8aaaa49197164f3",
   "execution_count": 18
  },
  {
   "cell_type": "code",
   "outputs": [],
   "source": [
    "env.model.cpu()\n",
    "del env.model\n",
    "\n",
    "torch.cuda.empty_cache()"
   ],
   "metadata": {
    "collapsed": false,
    "ExecuteTime": {
     "end_time": "2024-03-03T12:58:13.381285959Z",
     "start_time": "2024-03-03T12:58:13.273956812Z"
    }
   },
   "id": "946f2f97d46ad2be",
   "execution_count": 15
  },
  {
   "cell_type": "code",
   "outputs": [],
   "source": [
    "torch.cuda.empty_cache()"
   ],
   "metadata": {
    "collapsed": false,
    "ExecuteTime": {
     "end_time": "2024-03-03T12:58:16.363003280Z",
     "start_time": "2024-03-03T12:58:16.319061169Z"
    }
   },
   "id": "3464d64f31e2c266",
   "execution_count": 16
  }
 ],
 "metadata": {
  "kernelspec": {
   "display_name": "Python 3",
   "language": "python",
   "name": "python3"
  },
  "language_info": {
   "codemirror_mode": {
    "name": "ipython",
    "version": 2
   },
   "file_extension": ".py",
   "mimetype": "text/x-python",
   "name": "python",
   "nbconvert_exporter": "python",
   "pygments_lexer": "ipython2",
   "version": "2.7.6"
  }
 },
 "nbformat": 4,
 "nbformat_minor": 5
}
