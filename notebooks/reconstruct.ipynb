{
 "cells": [
  {
   "cell_type": "markdown",
   "source": [
    "# Reconstruction problem notebook"
   ],
   "metadata": {
    "collapsed": false
   },
   "id": "7f4f4c32ad630eb6"
  },
  {
   "cell_type": "markdown",
   "source": [
    "================================================================================================================="
   ],
   "metadata": {
    "collapsed": false
   },
   "id": "e313938dc22f1b3a"
  },
  {
   "cell_type": "markdown",
   "source": [
    "## Библиотеки, параметры, константы задачи"
   ],
   "metadata": {
    "collapsed": false
   },
   "id": "4a9ef876ce41ad11"
  },
  {
   "cell_type": "code",
   "outputs": [],
   "source": [
    "from applications.poly_features_environment import PolyFeaturesEnv\n",
    "import torch\n",
    "import models\n",
    "from common.fstream import read_tensor, read_matrix, rescale_array\n",
    "\n",
    "PATH_BASE = \"/home/amedvedev/projects/python/DenoisingCNN\"\n",
    "NAME_DATASET = \"gcg19\"\n",
    "env = PolyFeaturesEnv(name_model=\"model_20\", name_dataset=NAME_DATASET, path_base=PATH_BASE,\n",
    "                      device_name=\"cpu\")\n"
   ],
   "metadata": {
    "collapsed": false,
    "ExecuteTime": {
     "end_time": "2024-02-11T15:28:00.759391179Z",
     "start_time": "2024-02-11T15:27:57.749276266Z"
    }
   },
   "id": "9c935114d62e36ba",
   "execution_count": 1
  },
  {
   "cell_type": "markdown",
   "source": [
    "## Загрузка данных"
   ],
   "metadata": {
    "collapsed": false
   },
   "id": "227b20a688b67e93"
  },
  {
   "cell_type": "markdown",
   "source": [
    "### Восстанавление $\\left|k\\right|$ по $\\left|y_{выч}\\right|$, разделённому на левую ($\\left|y_{выч}\\right|_{L}$) и правую ($\\left|y_{выч}\\right|_{R}$) части"
   ],
   "metadata": {
    "collapsed": false
   },
   "id": "fa219ab7cd4bd8ee"
  },
  {
   "cell_type": "code",
   "outputs": [
    {
     "name": "stdout",
     "output_type": "stream",
     "text": [
      "28 16\n"
     ]
    }
   ],
   "source": [
    "env.clear_features_and_targets()\n",
    "env \\\n",
    "    .set_batch_size(\n",
    "        train_batch_size=32, val_batch_size=4\n",
    "    ) \\\n",
    "    .load_feature(\n",
    "        width=40, height=80, feature_name=\"Uvych_abs_left.xls\", mapper=read_matrix\n",
    "    ) \\\n",
    "    .load_feature(\n",
    "        width=40, height=80, feature_name=\"Uvych_abs_right.xls\", mapper=read_matrix\n",
    "    ) \\\n",
    "    .set_target(\n",
    "        width=80, height=80, target_name=\"K_abs.xls\", mapper=read_tensor\n",
    "    ) \\\n",
    "    \n",
    "\n",
    "print(env.train_count, env.val_count)\n"
   ],
   "metadata": {
    "collapsed": false,
    "ExecuteTime": {
     "end_time": "2024-02-11T14:44:11.213340538Z",
     "start_time": "2024-02-11T14:44:11.168993581Z"
    }
   },
   "id": "ac93e5b01c30fbec",
   "execution_count": 2
  },
  {
   "cell_type": "markdown",
   "source": [
    "### Восстанавление $\\left|k\\right|$ из $\\tilde{\\left|k\\right|}$ (noised)"
   ],
   "metadata": {
    "collapsed": false
   },
   "id": "35a226a005023983"
  },
  {
   "cell_type": "code",
   "outputs": [
    {
     "name": "stdout",
     "output_type": "stream",
     "text": [
      "231 16\n"
     ]
    }
   ],
   "source": [
    "env.clear_features_and_targets()\n",
    "env \\\n",
    "    .set_batch_size(\n",
    "        train_batch_size=4, val_batch_size=4\n",
    "    ) \\\n",
    "    .load_feature(\n",
    "        width=80, height=80, feature_name=\"K_noised_abs.xls\", mapper=read_matrix, transform=None\n",
    "    ) \\\n",
    "    .set_target(\n",
    "        width=80, height=80, target_name=\"K_abs.xls\", mapper=read_matrix, transform=None\n",
    "    ) \\\n",
    "    \n",
    "print(env.train_count, env.val_count)"
   ],
   "metadata": {
    "collapsed": false,
    "ExecuteTime": {
     "end_time": "2024-02-11T14:45:11.249599599Z",
     "start_time": "2024-02-11T14:45:11.204408313Z"
    }
   },
   "id": "9a3618de5489bb5b",
   "execution_count": 8
  },
  {
   "cell_type": "markdown",
   "source": [
    "### Восстанавление $\\left|k\\right|$ из $\\left|y_{выч}\\right|$ "
   ],
   "metadata": {
    "collapsed": false
   },
   "id": "c735b90ebf4f885a"
  },
  {
   "cell_type": "code",
   "outputs": [
    {
     "name": "stdout",
     "output_type": "stream",
     "text": [
      "115 16\n"
     ]
    }
   ],
   "source": [
    "env.clear_features_and_targets()\n",
    "env \\\n",
    "    .set_batch_size(\n",
    "        train_batch_size=8, val_batch_size=4\n",
    "    ) \\\n",
    "    .load_feature(\n",
    "        width=80, height=80, feature_name=\"Uvych_abs.xls\", mapper=read_matrix, transform=None\n",
    "    ) \\\n",
    "    .set_target(\n",
    "        width=80, height=80, target_name=\"K_abs.xls\", mapper=read_matrix, transform=None\n",
    "    ) \\\n",
    "    \n",
    "print(env.train_count, env.val_count)\n"
   ],
   "metadata": {
    "collapsed": false,
    "ExecuteTime": {
     "end_time": "2024-02-11T15:29:09.937904344Z",
     "start_time": "2024-02-11T15:29:09.723643900Z"
    }
   },
   "id": "4aed2312e218abff",
   "execution_count": 2
  },
  {
   "cell_type": "markdown",
   "source": [
    "### Восстанавление $\\left|y_{выч}\\right|_{L}$ из $\\left|\\tilde{y}_{выч}\\right|_{L}$ (noised)\n"
   ],
   "metadata": {
    "collapsed": false
   },
   "id": "26de03bb21f8f8ae"
  },
  {
   "cell_type": "code",
   "outputs": [
    {
     "name": "stdout",
     "output_type": "stream",
     "text": [
      "231 16\n"
     ]
    }
   ],
   "source": [
    "env.clear_features_and_targets()\n",
    "env \\\n",
    "    .set_batch_size(\n",
    "        train_batch_size=4, val_batch_size=4\n",
    "    ) \\\n",
    "    .load_feature(\n",
    "        width=40, height=80, feature_name=\"Uvych_noised_abs_left.xls\", mapper=read_matrix, transform=None\n",
    "    ) \\\n",
    "    .set_target(\n",
    "        width=40, height=80, target_name=\"Uvych_abs_left.xls\", mapper=read_matrix, transform=None\n",
    "    ) \\\n",
    "    \n",
    "print(env.train_count, env.val_count)"
   ],
   "metadata": {
    "collapsed": false,
    "ExecuteTime": {
     "end_time": "2024-02-11T03:17:43.625588769Z",
     "start_time": "2024-02-11T03:17:43.593584240Z"
    }
   },
   "id": "beff9b01a5cee83e",
   "execution_count": 2
  },
  {
   "cell_type": "markdown",
   "source": [
    "==================================================================================================================================="
   ],
   "metadata": {
    "collapsed": false
   },
   "id": "2b18d363e1ad1ee9"
  },
  {
   "cell_type": "markdown",
   "source": [
    "## Модели"
   ],
   "metadata": {
    "collapsed": false
   },
   "id": "3246ce4bf1d31fdc"
  },
  {
   "cell_type": "markdown",
   "source": [
    "### VQGAN"
   ],
   "metadata": {
    "collapsed": false
   },
   "id": "408dbb3a20bf19b1"
  },
  {
   "cell_type": "code",
   "outputs": [],
   "source": [
    "env.model = models.vqgan.VQGAN_mod(type('', (object, ), \n",
    "    {'image_channels': 1, 'latent_dim': 256, 'device': env.device_name, \n",
    "     'num_codebook_vectors': 1024, 'beta': 0.25})()).to(env.device)"
   ],
   "metadata": {
    "collapsed": false,
    "ExecuteTime": {
     "end_time": "2024-02-11T00:22:23.091616244Z",
     "start_time": "2024-02-11T00:22:22.387201475Z"
    }
   },
   "id": "f7532aec7234e4da",
   "execution_count": 26
  },
  {
   "cell_type": "markdown",
   "source": [
    "### U-net"
   ],
   "metadata": {
    "collapsed": false
   },
   "id": "a7146e40bc9f5436"
  },
  {
   "cell_type": "code",
   "outputs": [],
   "source": [
    "env.model = models.UnetAutoencoder.UNetAuto(num_channels=1, num_out_channels=1, max_features=256).to(env.device)"
   ],
   "metadata": {
    "collapsed": false,
    "ExecuteTime": {
     "end_time": "2024-02-11T09:56:02.787259674Z",
     "start_time": "2024-02-11T09:56:02.539967666Z"
    }
   },
   "id": "dd5d6f80d1f3401e",
   "execution_count": 4
  },
  {
   "cell_type": "markdown",
   "source": [
    "### Hybrid Perception Block "
   ],
   "metadata": {
    "collapsed": false
   },
   "id": "f80a415d76b56130"
  },
  {
   "cell_type": "code",
   "outputs": [],
   "source": [
    "from ITTR_pytorch import HPB\n",
    "env.model = HPB(\n",
    "    dim = 1,              # dimension\n",
    "    dim_head = 80,          # dimension per attention head\n",
    "    heads = 8,              # number of attention heads\n",
    "    attn_height_top_k = 16, # number of top indices to select along height, for the attention pruning\n",
    "    attn_width_top_k = 16,  # number of top indices to select along width, for the attention pruning\n",
    "    attn_dropout = 0.,      # attn dropout\n",
    "    ff_mult = 4,            # expansion factor of feedforward\n",
    "    ff_dropout = 0.         # feedforward dropout\n",
    ").to(env.device)"
   ],
   "metadata": {
    "collapsed": false,
    "ExecuteTime": {
     "end_time": "2024-02-11T15:29:15.894813918Z",
     "start_time": "2024-02-11T15:29:15.863750447Z"
    }
   },
   "id": "de30d2240ca646d1",
   "execution_count": 3
  },
  {
   "cell_type": "markdown",
   "source": [
    "### Dual-Pruned Self-Attention (DPSA) block"
   ],
   "metadata": {
    "collapsed": false
   },
   "id": "471bc24a2756bbb2"
  },
  {
   "cell_type": "code",
   "outputs": [],
   "source": [
    "from ITTR_pytorch import DPSA\n",
    "\n",
    "\n",
    "env.model = DPSA(\n",
    "    dim = 1,         # dimension\n",
    "    dim_head = 80,     # dimension per attention head\n",
    "    heads = 8,         # number of attention heads\n",
    "    height_top_k = 48, # number of top indices to select along height, for the attention pruning\n",
    "    width_top_k = 48,  # number of top indices to select along width, for the attention pruning\n",
    "    dropout = 0.       # attn dropout\n",
    ").to(env.device)"
   ],
   "metadata": {
    "collapsed": false,
    "ExecuteTime": {
     "end_time": "2024-02-11T15:14:32.609560360Z",
     "start_time": "2024-02-11T15:14:32.577466554Z"
    }
   },
   "id": "fa71b8a8ca7d7195",
   "execution_count": 3
  },
  {
   "cell_type": "markdown",
   "source": [
    "### Новая локальная модель"
   ],
   "metadata": {
    "collapsed": false
   },
   "id": "330e31f09f1b49e3"
  },
  {
   "cell_type": "code",
   "outputs": [
    {
     "name": "stdout",
     "output_type": "stream",
     "text": [
      "New model created.\n"
     ]
    }
   ],
   "source": [
    "env.init_model(models.autoencoders.ConvAutoencoderLumaRelu)"
   ],
   "metadata": {
    "collapsed": false,
    "ExecuteTime": {
     "end_time": "2024-02-10T22:22:45.290902212Z",
     "start_time": "2024-02-10T22:22:45.282561513Z"
    }
   },
   "id": "a3d2a624eaa2ae79",
   "execution_count": 54
  },
  {
   "cell_type": "markdown",
   "source": [
    "### Импорт претренерованной модели"
   ],
   "metadata": {
    "collapsed": false
   },
   "id": "51234eb89764a30e"
  },
  {
   "cell_type": "code",
   "outputs": [],
   "source": [
    "env.load_model(model_type=\"pt\")"
   ],
   "metadata": {
    "collapsed": false,
    "ExecuteTime": {
     "end_time": "2024-02-11T03:17:46.347683555Z",
     "start_time": "2024-02-11T03:17:46.188701734Z"
    }
   },
   "id": "44a9ffa270a9681b",
   "execution_count": 3
  },
  {
   "cell_type": "markdown",
   "source": [
    "==================================================================================================================================="
   ],
   "metadata": {
    "collapsed": false
   },
   "id": "c7a16533f93734e9"
  },
  {
   "cell_type": "markdown",
   "source": [
    "## Визуализация батча валидационного датасета"
   ],
   "metadata": {
    "collapsed": false
   },
   "id": "abea5050bd1c71c7"
  },
  {
   "cell_type": "code",
   "outputs": [],
   "source": [],
   "metadata": {
    "collapsed": false
   },
   "id": "a2b7b0c3156ee1a8"
  },
  {
   "cell_type": "code",
   "outputs": [
    {
     "data": {
      "text/plain": "<Figure size 600x1000 with 16 Axes>",
      "image/png": "[encoded data removed]"
     },
     "metadata": {},
     "output_type": "display_data"
    }
   ],
   "source": [
    "env.plot_batch(concrete=1, figsize=(6, 10), format=\"%.1f\", wspace=0.0, hspace=0.2)"
   ],
   "metadata": {
    "collapsed": false,
    "ExecuteTime": {
     "end_time": "2024-02-11T15:34:27.526202168Z",
     "start_time": "2024-02-11T15:34:25.802585564Z"
    }
   },
   "id": "48f961f7452c3726",
   "execution_count": 7
  },
  {
   "cell_type": "markdown",
   "source": [
    "==================================================================================================================================="
   ],
   "metadata": {
    "collapsed": false
   },
   "id": "42d6f23ecdd5b6bf"
  },
  {
   "cell_type": "markdown",
   "source": [
    "## Численные значения отклонений"
   ],
   "metadata": {
    "collapsed": false
   },
   "id": "2f53f81de64e753f"
  },
  {
   "cell_type": "code",
   "outputs": [
    {
     "ename": "NameError",
     "evalue": "name 'torch' is not defined",
     "output_type": "error",
     "traceback": [
      "\u001B[0;31m---------------------------------------------------------------------------\u001B[0m",
      "\u001B[0;31mNameError\u001B[0m                                 Traceback (most recent call last)",
      "Cell \u001B[0;32mIn[2], line 15\u001B[0m\n\u001B[1;32m     12\u001B[0m     \u001B[38;5;28mprint\u001B[39m(\u001B[38;5;124m\"\u001B[39m\u001B[38;5;124mСреднее отклонение по значениям в векторе:\u001B[39m\u001B[38;5;124m\"\u001B[39m, \u001B[38;5;28msum\u001B[39m(losses) \u001B[38;5;241m/\u001B[39m \u001B[38;5;28mlen\u001B[39m(losses))\n\u001B[1;32m     13\u001B[0m     \u001B[38;5;28mprint\u001B[39m(\u001B[38;5;124m\"\u001B[39m\u001B[38;5;124mМаксимальное отклонение по значениям в векторе:\u001B[39m\u001B[38;5;124m\"\u001B[39m, \u001B[38;5;28mmax\u001B[39m(losses))\n\u001B[0;32m---> 15\u001B[0m \u001B[43mtest\u001B[49m\u001B[43m(\u001B[49m\u001B[43m)\u001B[49m\n",
      "Cell \u001B[0;32mIn[2], line 3\u001B[0m, in \u001B[0;36mtest\u001B[0;34m()\u001B[0m\n\u001B[1;32m      1\u001B[0m \u001B[38;5;28;01mdef\u001B[39;00m \u001B[38;5;21mtest\u001B[39m():\n\u001B[1;32m      2\u001B[0m     losses \u001B[38;5;241m=\u001B[39m []\n\u001B[0;32m----> 3\u001B[0m     \u001B[38;5;28;01mwith\u001B[39;00m \u001B[43mtorch\u001B[49m\u001B[38;5;241m.\u001B[39mno_grad():\n\u001B[1;32m      5\u001B[0m         \u001B[38;5;28;01mfor\u001B[39;00m row \u001B[38;5;129;01min\u001B[39;00m \u001B[38;5;28mzip\u001B[39m(\u001B[38;5;241m*\u001B[39menv\u001B[38;5;241m.\u001B[39mval_features_loaders \u001B[38;5;241m+\u001B[39m [env\u001B[38;5;241m.\u001B[39mval_target_loader]):\n\u001B[1;32m      6\u001B[0m             data_features \u001B[38;5;241m=\u001B[39m \u001B[38;5;28mlist\u001B[39m(row)\n",
      "\u001B[0;31mNameError\u001B[0m: name 'torch' is not defined"
     ]
    }
   ],
   "source": [
    "def test():\n",
    "    losses = []\n",
    "    with torch.no_grad():\n",
    "    \n",
    "        for row in zip(*env.val_features_loaders + [env.val_target_loader]):\n",
    "            data_features = list(row)\n",
    "            data_target = data_features.pop()\n",
    "            outputs = env.model(*data_features)\n",
    "            loss = torch.max(torch.abs(outputs - data_target))\n",
    "            losses.append(loss.detach().tolist())\n",
    "            \n",
    "    print(\"Среднее отклонение по значениям в векторе:\", sum(losses) / len(losses))\n",
    "    print(\"Максимальное отклонение по значениям в векторе:\", max(losses))\n",
    "    \n",
    "test()"
   ],
   "metadata": {
    "collapsed": false,
    "ExecuteTime": {
     "end_time": "2024-02-11T15:27:36.489924590Z",
     "start_time": "2024-02-11T15:27:36.320977268Z"
    }
   },
   "id": "ea5623a8213b55c5",
   "execution_count": 2
  },
  {
   "cell_type": "markdown",
   "source": [
    "==================================================================================================================================="
   ],
   "metadata": {
    "collapsed": false
   },
   "id": "fe24def86187324e"
  },
  {
   "cell_type": "markdown",
   "source": [
    "## Training"
   ],
   "metadata": {
    "collapsed": false
   },
   "id": "7400b258c058938"
  },
  {
   "cell_type": "code",
   "outputs": [],
   "source": [
    "from common.losses import MseCoeffLoss, L1CoeffLoss"
   ],
   "metadata": {
    "collapsed": false,
    "ExecuteTime": {
     "end_time": "2024-02-11T15:29:42.553519827Z",
     "start_time": "2024-02-11T15:29:42.509117669Z"
    }
   },
   "id": "d719c0b99ae4d1bc",
   "execution_count": 5
  },
  {
   "cell_type": "code",
   "outputs": [],
   "source": [
    "# optimizer = torch.optim.Adam(env.model.parameters(), lr=0.00001)\n",
    "# #scheduler = torch.optim.lr_scheduler.LambdaLR(optimizer, lr_lambda=lambda epoch: 0.65 ** epoch)\n",
    "# \n",
    "# env.train(3, step_saving=False, step_plotting=False,\n",
    "#           optimizer=optimizer, scheduler=None, \n",
    "#           criterion=MyLoss(reduce=\"none\", reduction=\"none\", coeff=10000000.0))"
   ],
   "metadata": {
    "collapsed": false
   },
   "id": "61a0c8f4af7bc41b"
  },
  {
   "cell_type": "code",
   "outputs": [
    {
     "name": "stderr",
     "output_type": "stream",
     "text": [
      "/home/amedvedev/projects/python/DenoisingCNN/venv/lib/python3.10/site-packages/torch/nn/_reduction.py:42: UserWarning: size_average and reduce args will be deprecated, please use reduction='mean' instead.\n",
      "  warnings.warn(warning.format(ret))\n"
     ]
    },
    {
     "name": "stdout",
     "output_type": "stream",
     "text": [
      "Training progress: |██████████████████████████████████████████████████| 100.0% Complete | \r\n",
      "Validating progress: |██████████████████████████████████████████████████| 100.0% Complete | \r\n",
      "\n",
      "Epoch: 1 \tTraining Loss: 850.041298 \tValidating Loss: 733.703901 \tTime: 4.51 m\n",
      "\n",
      "====================================================================================================\n"
     ]
    }
   ],
   "source": [
    "env.train(1, step_saving=True, step_plotting=False,\n",
    "          optimizer=torch.optim.Adam(env.model.parameters(), lr=0.1), scheduler=None, \n",
    "          criterion=MseCoeffLoss(reduce=\"none\", reduction=\"none\", coeff=1.0))"
   ],
   "metadata": {
    "collapsed": false,
    "ExecuteTime": {
     "end_time": "2024-02-11T15:34:18.488987230Z",
     "start_time": "2024-02-11T15:29:47.803023152Z"
    }
   },
   "id": "f6d590f6737e4b9f",
   "execution_count": 6
  },
  {
   "cell_type": "markdown",
   "source": [
    "№1"
   ],
   "metadata": {
    "collapsed": false
   },
   "id": "bd8f6d93e53eb121"
  },
  {
   "cell_type": "code",
   "outputs": [
    {
     "name": "stdout",
     "output_type": "stream",
     "text": [
      "Training progress: |██████████████████████████████████████████████████| 100.0% Complete | \r\n",
      "\n",
      "Validating progress: |██████████████████████████████████████████████████| 100.0% Complete | \r\n",
      "\n",
      "Epoch: 1 \tTraining Loss: 0.032314 \tValidating Loss: 0.041488 \tTime: 0.13 m\n",
      "\n",
      "====================================================================================================\n",
      "Training progress: |██████████████████████████████████████████████████| 100.0% Complete | \r\n",
      "Validating progress: |██████████████████████████████████████████████████| 100.0% Complete | \r\n",
      "\n",
      "Epoch: 2 \tTraining Loss: 0.032245 \tValidating Loss: 0.041429 \tTime: 0.13 m\n",
      "\n",
      "====================================================================================================\n",
      "\n",
      "Training progress: |██████████████████████████████████████████████████| 100.0% Complete | \r\n",
      "\n",
      "Validating progress: |██████████████████████████████████████████████████| 100.0% Complete | \r\n",
      "\n",
      "Epoch: 3 \tTraining Loss: 0.032180 \tValidating Loss: 0.041367 \tTime: 0.13 m\n",
      "\n",
      "====================================================================================================\n",
      "\n",
      "Training progress: |██████████████████████████████████████████████████| 100.0% Complete | \r\n",
      "\n",
      "Validating progress: |██████████████████████████████████████████████████| 100.0% Complete | \r\n",
      "\n",
      "Epoch: 4 \tTraining Loss: 0.032115 \tValidating Loss: 0.041305 \tTime: 0.13 m\n",
      "\n",
      "====================================================================================================\n",
      "Training progress: |██████████████████████████████████████████████████| 100.0% Complete | \r\n",
      "Validating progress: |██████████████████████████████████████████████████| 100.0% Complete | \r\n",
      "\n",
      "Epoch: 5 \tTraining Loss: 0.032051 \tValidating Loss: 0.041243 \tTime: 0.13 m\n",
      "\n",
      "====================================================================================================\n",
      "\n",
      "Training progress: |██████████████████████████████████████████████████| 100.0% Complete | \r\n",
      "\n",
      "Validating progress: |██████████████████████████████████████████████████| 100.0% Complete | \r\n",
      "\n",
      "Epoch: 6 \tTraining Loss: 0.031987 \tValidating Loss: 0.041180 \tTime: 0.13 m\n",
      "\n",
      "====================================================================================================\n",
      "\n",
      "Training progress: |██████████████████████████████████████████████████| 100.0% Complete | \r\n",
      "\n",
      "Validating progress: |██████████████████████████████████████████████████| 100.0% Complete | \r\n",
      "\n",
      "Epoch: 7 \tTraining Loss: 0.031923 \tValidating Loss: 0.041118 \tTime: 0.13 m\n",
      "\n",
      "====================================================================================================\n",
      "\n",
      "Training progress: |██████████████████████████████████████████████████| 100.0% Complete | \r\n",
      "\n",
      "Validating progress: |██████████████████████████████████████████████████| 100.0% Complete | \r\n",
      "\n",
      "Epoch: 8 \tTraining Loss: 0.031860 \tValidating Loss: 0.041057 \tTime: 0.13 m\n",
      "\n",
      "====================================================================================================\n",
      "\n",
      "Training progress: |██████████████████████████████████████████████████| 100.0% Complete | \r\n",
      "\n",
      "Validating progress: |██████████████████████████████████████████████████| 100.0% Complete | \r\n",
      "\n",
      "Epoch: 9 \tTraining Loss: 0.031797 \tValidating Loss: 0.040995 \tTime: 0.13 m\n",
      "\n",
      "====================================================================================================\n",
      "Training progress: |██████████████████████████████████████████████████| 100.0% Complete | \r\n",
      "Validating progress: |██████████████████████████████████████████████████| 100.0% Complete | \r\n",
      "\n",
      "Epoch: 10 \tTraining Loss: 0.031735 \tValidating Loss: 0.040934 \tTime: 0.13 m\n",
      "\n",
      "====================================================================================================\n",
      "\n",
      "Training progress: |██████████████████████████████████████████████████| 100.0% Complete | \r\n",
      "\n",
      "Validating progress: |██████████████████████████████████████████████████| 100.0% Complete | \r\n",
      "\n",
      "Epoch: 11 \tTraining Loss: 0.031672 \tValidating Loss: 0.040872 \tTime: 0.13 m\n",
      "\n",
      "====================================================================================================\n",
      "\n",
      "Training progress: |██████████████████████████████████████████████████| 100.0% Complete | \r\n",
      "\n",
      "Validating progress: |██████████████████████████████████████████████████| 100.0% Complete | \r\n",
      "\n",
      "Epoch: 12 \tTraining Loss: 0.031611 \tValidating Loss: 0.040810 \tTime: 0.13 m\n",
      "\n",
      "====================================================================================================\n",
      "\n",
      "Training progress: |██████████████████████████████████████████████████| 100.0% Complete | \r\n",
      "\n",
      "Validating progress: |██████████████████████████████████████████████████| 100.0% Complete | \r\n",
      "\n",
      "Epoch: 13 \tTraining Loss: 0.031549 \tValidating Loss: 0.040749 \tTime: 0.13 m\n",
      "\n",
      "====================================================================================================\n",
      "\n",
      "Training progress: |██████████████████████████████████████████████████| 100.0% Complete | \r\n",
      "\n",
      "Validating progress: |██████████████████████████████████████████████████| 100.0% Complete | \r\n",
      "\n",
      "Epoch: 14 \tTraining Loss: 0.031488 \tValidating Loss: 0.040687 \tTime: 0.13 m\n",
      "\n",
      "====================================================================================================\n",
      "\n",
      "Training progress: |██████████████████████████████████████████████████| 100.0% Complete | \r\n",
      "\n",
      "Validating progress: |██████████████████████████████████████████████████| 100.0% Complete | \r\n",
      "\n",
      "Epoch: 15 \tTraining Loss: 0.031427 \tValidating Loss: 0.040624 \tTime: 0.13 m\n",
      "\n",
      "====================================================================================================\n",
      "\n",
      "Training progress: |██████████████████████████████████████████████████| 100.0% Complete | \r\n",
      "\n",
      "Validating progress: |██████████████████████████████████████████████████| 100.0% Complete | \r\n",
      "\n",
      "Epoch: 16 \tTraining Loss: 0.031367 \tValidating Loss: 0.040563 \tTime: 0.13 m\n",
      "\n",
      "====================================================================================================\n",
      "\n",
      "Training progress: |██████████████████████████████████████████████████| 100.0% Complete | \r\n",
      "\n",
      "Validating progress: |██████████████████████████████████████████████████| 100.0% Complete | \r\n",
      "\n",
      "Epoch: 17 \tTraining Loss: 0.031306 \tValidating Loss: 0.040502 \tTime: 0.13 m\n",
      "\n",
      "====================================================================================================\n",
      "\n",
      "Training progress: |██████████████████████████████████████████████████| 100.0% Complete | \r\n",
      "Validating progress: |██████████████████████████████████████████████████| 100.0% Complete | \r\n",
      "\n",
      "Epoch: 18 \tTraining Loss: 0.031247 \tValidating Loss: 0.040441 \tTime: 0.13 m\n",
      "\n",
      "====================================================================================================\n",
      "\n",
      "Training progress: |██████████████████████████████████████████████████| 100.0% Complete | \r\n",
      "\n",
      "Validating progress: |██████████████████████████████████████████████████| 100.0% Complete | \r\n",
      "\n",
      "Epoch: 19 \tTraining Loss: 0.031187 \tValidating Loss: 0.040381 \tTime: 0.13 m\n",
      "\n",
      "====================================================================================================\n",
      "\n",
      "Training progress: |██████████████████████████████████████████████████| 100.0% Complete | \r\n",
      "\n",
      "Validating progress: |██████████████████████████████████████████████████| 100.0% Complete | \r\n",
      "\n",
      "Epoch: 20 \tTraining Loss: 0.031127 \tValidating Loss: 0.040319 \tTime: 0.13 m\n",
      "\n",
      "====================================================================================================\n",
      "\n",
      "Training progress: |██████████████████████████████████████████████████| 100.0% Complete | \r\n",
      "\n",
      "Validating progress: |██████████████████████████████████████████████████| 100.0% Complete | \r\n",
      "\n",
      "Epoch: 21 \tTraining Loss: 0.031068 \tValidating Loss: 0.040259 \tTime: 0.14 m\n",
      "\n",
      "====================================================================================================\n",
      "\n",
      "Training progress: |██████████████████████████████████████████████████| 100.0% Complete | \r\n",
      "\n",
      "Validating progress: |██████████████████████████████████████████████████| 100.0% Complete | \r\n",
      "\n",
      "Epoch: 22 \tTraining Loss: 0.031009 \tValidating Loss: 0.040198 \tTime: 0.13 m\n",
      "\n",
      "====================================================================================================\n",
      "\n",
      "Training progress: |██████████████████████████████████████████████████| 100.0% Complete | \r\n",
      "\n",
      "Validating progress: |██████████████████████████████████████████████████| 100.0% Complete | \r\n",
      "\n",
      "Epoch: 23 \tTraining Loss: 0.030950 \tValidating Loss: 0.040138 \tTime: 0.13 m\n",
      "\n",
      "====================================================================================================\n",
      "\n",
      "Training progress: |██████████████████████████████████████████████████| 100.0% Complete | \r\n",
      "\n",
      "Validating progress: |██████████████████████████████████████████████████| 100.0% Complete | \r\n",
      "\n",
      "Epoch: 24 \tTraining Loss: 0.030891 \tValidating Loss: 0.040078 \tTime: 0.13 m\n",
      "\n",
      "====================================================================================================\n",
      "\n",
      "Training progress: |██████████████████████████████████████████████████| 100.0% Complete | \r\n",
      "\n",
      "Validating progress: |██████████████████████████████████████████████████| 100.0% Complete | \r\n",
      "\n",
      "Epoch: 25 \tTraining Loss: 0.030833 \tValidating Loss: 0.040018 \tTime: 0.13 m\n",
      "\n",
      "====================================================================================================\n",
      "\n",
      "Training progress: |██████████████████████████████████████████████████| 100.0% Complete | \r\n",
      "\n",
      "Validating progress: |██████████████████████████████████████████████████| 100.0% Complete | \r\n",
      "\n",
      "Epoch: 26 \tTraining Loss: 0.030774 \tValidating Loss: 0.039959 \tTime: 0.13 m\n",
      "\n",
      "====================================================================================================\n",
      "\n",
      "Training progress: |██████████████████████████████████████████████████| 100.0% Complete | \r\n",
      "\n",
      "Validating progress: |██████████████████████████████████████████████████| 100.0% Complete | \r\n",
      "\n",
      "Epoch: 27 \tTraining Loss: 0.030717 \tValidating Loss: 0.039899 \tTime: 0.13 m\n",
      "\n",
      "====================================================================================================\n",
      "\n",
      "Training progress: |██████████████████████████████████████████████████| 100.0% Complete | \r\n",
      "\n",
      "Validating progress: |██████████████████████████████████████████████████| 100.0% Complete | \r\n",
      "\n",
      "Epoch: 28 \tTraining Loss: 0.030659 \tValidating Loss: 0.039839 \tTime: 0.13 m\n",
      "\n",
      "====================================================================================================\n",
      "\n",
      "Training progress: |██████████████████████████████████████████████████| 100.0% Complete | \r\n",
      "\n",
      "Validating progress: |██████████████████████████████████████████████████| 100.0% Complete | \r\n",
      "\n",
      "Epoch: 29 \tTraining Loss: 0.030601 \tValidating Loss: 0.039779 \tTime: 0.13 m\n",
      "\n",
      "====================================================================================================\n",
      "\n",
      "Training progress: |██████████████████████████████████████████████████| 100.0% Complete | \r\n",
      "\n",
      "Validating progress: |██████████████████████████████████████████████████| 100.0% Complete | \r\n",
      "\n",
      "Epoch: 30 \tTraining Loss: 0.030544 \tValidating Loss: 0.039720 \tTime: 0.13 m\n",
      "\n",
      "====================================================================================================\n"
     ]
    }
   ],
   "source": [
    "optimizer = torch.optim.Adam(env.model.parameters(), lr=0.00001)\n",
    "#scheduler = torch.optim.lr_scheduler.LambdaLR(optimizer, lr_lambda=lambda epoch: 0.65 ** epoch)\n",
    "\n",
    "env.train(30, step_saving=True, step_plotting=False,\n",
    "          optimizer=optimizer, scheduler=None, \n",
    "          criterion=MseCoeffLoss(reduce=\"none\", reduction=\"none\", coeff=10.0))"
   ],
   "metadata": {
    "collapsed": false,
    "ExecuteTime": {
     "end_time": "2024-02-11T02:49:43.030232711Z",
     "start_time": "2024-02-11T02:45:46.564626519Z"
    }
   },
   "id": "af5a1c6ccdaaa722",
   "execution_count": 22
  },
  {
   "cell_type": "markdown",
   "source": [
    "## Сохранение модели"
   ],
   "metadata": {
    "collapsed": false
   },
   "id": "7541d5d68b928c4"
  },
  {
   "cell_type": "code",
   "outputs": [],
   "source": [
    "env.save(onnx=False, pth=False)"
   ],
   "metadata": {
    "collapsed": false,
    "ExecuteTime": {
     "end_time": "2024-02-10T22:58:46.137708549Z",
     "start_time": "2024-02-10T22:58:46.064947761Z"
    }
   },
   "id": "e62d9f311dc8dda8",
   "execution_count": 80
  },
  {
   "cell_type": "markdown",
   "source": [
    "## Loss visualisation"
   ],
   "metadata": {
    "collapsed": false
   },
   "id": "44bedf23f380e449"
  },
  {
   "cell_type": "code",
   "outputs": [
    {
     "data": {
      "text/plain": "<Figure size 640x480 with 1 Axes>",
      "image/png": "[encoded data removed]"
     },
     "metadata": {},
     "output_type": "display_data"
    }
   ],
   "source": [
    "env.show_metrics(n_last=60, train=True, val=True)"
   ],
   "metadata": {
    "collapsed": false,
    "ExecuteTime": {
     "end_time": "2024-02-11T02:50:14.637270739Z",
     "start_time": "2024-02-11T02:50:14.434021181Z"
    }
   },
   "id": "d7bd5468be1b1615",
   "execution_count": 27
  },
  {
   "cell_type": "markdown",
   "source": [
    "## Clear memory"
   ],
   "metadata": {
    "collapsed": false
   },
   "id": "aef325b7fe949de1"
  },
  {
   "cell_type": "code",
   "outputs": [
    {
     "data": {
      "text/plain": "88651"
     },
     "execution_count": 23,
     "metadata": {},
     "output_type": "execute_result"
    }
   ],
   "source": [
    "import gc\n",
    "gc.collect()\n"
   ],
   "metadata": {
    "collapsed": false,
    "ExecuteTime": {
     "end_time": "2024-02-11T14:41:49.357126733Z",
     "start_time": "2024-02-11T14:41:49.343597523Z"
    }
   },
   "id": "b8aaaa49197164f3",
   "execution_count": 23
  },
  {
   "cell_type": "code",
   "outputs": [],
   "source": [
    "env.model.cpu()\n",
    "del env.model\n",
    "\n",
    "torch.cuda.empty_cache()"
   ],
   "metadata": {
    "collapsed": false,
    "ExecuteTime": {
     "end_time": "2024-02-11T14:41:50.261940666Z",
     "start_time": "2024-02-11T14:41:50.254973271Z"
    }
   },
   "id": "946f2f97d46ad2be",
   "execution_count": 24
  },
  {
   "cell_type": "code",
   "outputs": [],
   "source": [
    "torch.cuda.empty_cache()"
   ],
   "metadata": {
    "collapsed": false,
    "ExecuteTime": {
     "end_time": "2024-02-10T15:48:18.495615116Z",
     "start_time": "2024-02-10T15:48:18.487878973Z"
    }
   },
   "id": "3464d64f31e2c266",
   "execution_count": 10
  }
 ],
 "metadata": {
  "kernelspec": {
   "display_name": "Python 3",
   "language": "python",
   "name": "python3"
  },
  "language_info": {
   "codemirror_mode": {
    "name": "ipython",
    "version": 2
   },
   "file_extension": ".py",
   "mimetype": "text/x-python",
   "name": "python",
   "nbconvert_exporter": "python",
   "pygments_lexer": "ipython2",
   "version": "2.7.6"
  }
 },
 "nbformat": 4,
 "nbformat_minor": 5
}
