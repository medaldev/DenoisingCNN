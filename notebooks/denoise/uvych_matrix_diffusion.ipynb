{
 "cells": [
  {
   "cell_type": "code",
   "execution_count": 1,
   "id": "initial_id",
   "metadata": {
    "collapsed": true,
    "ExecuteTime": {
     "end_time": "2024-03-15T22:45:04.863570673Z",
     "start_time": "2024-03-15T22:45:02.225673790Z"
    }
   },
   "outputs": [],
   "source": [
    "import argparse\n",
    "import os\n",
    "import matplotlib.pyplot as plt\n",
    "import torch\n",
    "import models\n",
    "from common.fstream import read_tensor, read_matrix, rescale_array\n",
    "\n",
    "PATH_BASE = \"/home/amedvedev/projects/python/DenoisingCNN\"\n",
    "NAME_DATASET = \"gcg19\"\n",
    "DEVICE = \"cuda:0\""
   ]
  },
  {
   "cell_type": "code",
   "outputs": [
    {
     "name": "stdout",
     "output_type": "stream",
     "text": [
      "Data loading progress: |█████████████████████████████████████████████████-| 99.8% Complete | \r"
     ]
    }
   ],
   "source": [
    "from dataloaders.featureloader2d_v2 import FeatureLoader2d\n",
    "import torchvision\n",
    "\n",
    "BATCH_SIZE = 2\n",
    "\n",
    "\n",
    "transforms = torchvision.transforms.Compose([\n",
    "        torchvision.transforms.CenterCrop(64),\n",
    "        torchvision.transforms.Normalize((0.5), (0.5))\n",
    "    ])\n",
    "\n",
    "dataset = FeatureLoader2d(\n",
    "    data_dir=os.path.join(PATH_BASE, \"data\", \"datasets\", NAME_DATASET, \"train\", \"calculations\"), \n",
    "    feature=\"Uvych2_abs.xls\", \n",
    "    device=torch.device(DEVICE), \n",
    "    batch_size=BATCH_SIZE, \n",
    "    shape=(1, 64, 64), \n",
    "    read_tensor=read_matrix, \n",
    "    transform=transforms, \n",
    "    lazy_load=False, \n",
    "    pct_load=None, \n",
    "    dtype=None,\n",
    ")\n",
    "    "
   ],
   "metadata": {
    "collapsed": false,
    "ExecuteTime": {
     "end_time": "2024-03-15T22:45:08.665698925Z",
     "start_time": "2024-03-15T22:45:04.868251841Z"
    }
   },
   "id": "a036490c6e6be65e",
   "execution_count": 2
  },
  {
   "cell_type": "code",
   "outputs": [],
   "source": [
    "from models.diffusion.ddpm_dome272 import ddpm"
   ],
   "metadata": {
    "collapsed": false,
    "ExecuteTime": {
     "end_time": "2024-03-15T22:45:08.719194579Z",
     "start_time": "2024-03-15T22:45:08.658596623Z"
    }
   },
   "id": "414732a5ab56729c",
   "execution_count": 3
  },
  {
   "cell_type": "code",
   "outputs": [],
   "source": [
    "model = ddpm.UNet(c_in=1, c_out=1, device=DEVICE).to(torch.device(DEVICE))"
   ],
   "metadata": {
    "collapsed": false,
    "ExecuteTime": {
     "end_time": "2024-03-15T22:45:08.917295439Z",
     "start_time": "2024-03-15T22:45:08.705863654Z"
    }
   },
   "id": "8277048a586a79da",
   "execution_count": 4
  },
  {
   "cell_type": "code",
   "outputs": [
    {
     "data": {
      "text/plain": "<All keys matched successfully>"
     },
     "execution_count": 5,
     "metadata": {},
     "output_type": "execute_result"
    }
   ],
   "source": [
    "model.load_state_dict(torch.load(\"./models/DDPM_Uncondtional/ckpt.pt\"))"
   ],
   "metadata": {
    "collapsed": false,
    "ExecuteTime": {
     "end_time": "2024-03-15T22:45:09.734446765Z",
     "start_time": "2024-03-15T22:45:09.578595166Z"
    }
   },
   "id": "934573930f63eed5",
   "execution_count": 5
  },
  {
   "cell_type": "code",
   "outputs": [],
   "source": [
    "optimizer = torch.optim.AdamW(model.parameters(), lr=3e-4)"
   ],
   "metadata": {
    "collapsed": false,
    "ExecuteTime": {
     "end_time": "2024-03-15T22:45:12.877724743Z",
     "start_time": "2024-03-15T22:45:12.867571997Z"
    }
   },
   "id": "f5f6316c6d556623",
   "execution_count": 6
  },
  {
   "cell_type": "code",
   "outputs": [],
   "source": [
    "diffusion = ddpm.Diffusion(img_size=64, noise_steps=20, beta_start=1e-9, beta_end=1e-5, device=model.device)"
   ],
   "metadata": {
    "collapsed": false,
    "ExecuteTime": {
     "end_time": "2024-03-15T22:47:57.514232188Z",
     "start_time": "2024-03-15T22:47:57.469001087Z"
    }
   },
   "id": "e0b7e29d97e11fe3",
   "execution_count": 8
  },
  {
   "cell_type": "code",
   "outputs": [
    {
     "name": "stderr",
     "output_type": "stream",
     "text": [
      "02:18:24 - INFO: Starting epoch 0:\n",
      "100%|██████████| 447/447 [11:36<00:00,  1.56s/it, MSE=0.109] \n",
      "02:30:01 - INFO: Sampling 2 new images....\n",
      "19it [00:11,  1.62it/s]\n"
     ]
    }
   ],
   "source": [
    "ddpm.train(run_name=\"DDPM_Uncondtional\", \n",
    "           diffusion=diffusion,\n",
    "           dataloader=dataset,\n",
    "           model=model,\n",
    "           optimizer=optimizer,\n",
    "           epochs=1, \n",
    "           ch=1,\n",
    ")\n"
   ],
   "metadata": {
    "collapsed": false,
    "ExecuteTime": {
     "end_time": "2024-03-15T23:30:13.796293226Z",
     "start_time": "2024-03-15T23:18:24.361456759Z"
    }
   },
   "id": "2d7402d298ac6c27",
   "execution_count": 10
  },
  {
   "cell_type": "code",
   "outputs": [
    {
     "name": "stderr",
     "output_type": "stream",
     "text": [
      "01:44:47 - INFO: Sampling 1 new images....\n",
      "0it [00:00, ?it/s]../aten/src/ATen/native/cuda/IndexKernel.cu:92: operator(): block: [0,0,0], thread: [0,0,0] Assertion `-sizes[i] <= index && index < sizes[i] && \"index out of bounds\"` failed.\n",
      "0it [00:00, ?it/s]\n"
     ]
    },
    {
     "ename": "RuntimeError",
     "evalue": "CUDA error: device-side assert triggered\nCUDA kernel errors might be asynchronously reported at some other API call, so the stacktrace below might be incorrect.\nFor debugging consider passing CUDA_LAUNCH_BLOCKING=1.\nCompile with `TORCH_USE_CUDA_DSA` to enable device-side assertions.\n",
     "output_type": "error",
     "traceback": [
      "\u001B[0;31m---------------------------------------------------------------------------\u001B[0m",
      "\u001B[0;31mRuntimeError\u001B[0m                              Traceback (most recent call last)",
      "Cell \u001B[0;32mIn[8], line 3\u001B[0m\n\u001B[1;32m      1\u001B[0m noise_steps_old \u001B[38;5;241m=\u001B[39m diffusion\u001B[38;5;241m.\u001B[39mnoise_steps\n\u001B[1;32m      2\u001B[0m diffusion\u001B[38;5;241m.\u001B[39mnoise_steps\u001B[38;5;241m=\u001B[39m\u001B[38;5;241m200\u001B[39m\n\u001B[0;32m----> 3\u001B[0m x \u001B[38;5;241m=\u001B[39m \u001B[43mdiffusion\u001B[49m\u001B[38;5;241;43m.\u001B[39;49m\u001B[43msample\u001B[49m\u001B[43m(\u001B[49m\u001B[43mmodel\u001B[49m\u001B[43m,\u001B[49m\u001B[43m \u001B[49m\u001B[38;5;241;43m1\u001B[39;49m\u001B[43m,\u001B[49m\u001B[43m \u001B[49m\u001B[38;5;241;43m1\u001B[39;49m\u001B[43m)\u001B[49m\n\u001B[1;32m      5\u001B[0m plt\u001B[38;5;241m.\u001B[39mfigure(figsize\u001B[38;5;241m=\u001B[39m(\u001B[38;5;241m32\u001B[39m, \u001B[38;5;241m32\u001B[39m))\n\u001B[1;32m      6\u001B[0m plt\u001B[38;5;241m.\u001B[39mimshow(torch\u001B[38;5;241m.\u001B[39mcat([\n\u001B[1;32m      7\u001B[0m     torch\u001B[38;5;241m.\u001B[39mcat([i \u001B[38;5;28;01mfor\u001B[39;00m i \u001B[38;5;129;01min\u001B[39;00m x\u001B[38;5;241m.\u001B[39mcpu()], dim\u001B[38;5;241m=\u001B[39m\u001B[38;5;241m-\u001B[39m\u001B[38;5;241m1\u001B[39m),\n\u001B[1;32m      8\u001B[0m ], dim\u001B[38;5;241m=\u001B[39m\u001B[38;5;241m-\u001B[39m\u001B[38;5;241m2\u001B[39m)\u001B[38;5;241m.\u001B[39mpermute(\u001B[38;5;241m1\u001B[39m, \u001B[38;5;241m2\u001B[39m, \u001B[38;5;241m0\u001B[39m)\u001B[38;5;241m.\u001B[39mcpu(), cmap\u001B[38;5;241m=\u001B[39m\u001B[38;5;124m\"\u001B[39m\u001B[38;5;124mjet\u001B[39m\u001B[38;5;124m\"\u001B[39m)\n",
      "File \u001B[0;32m~/projects/python/DenoisingCNN/models/diffusion/ddpm_dome272/ddpm.py:51\u001B[0m, in \u001B[0;36mDiffusion.sample\u001B[0;34m(self, model, n, ch)\u001B[0m\n\u001B[1;32m     49\u001B[0m beta \u001B[38;5;241m=\u001B[39m \u001B[38;5;28mself\u001B[39m\u001B[38;5;241m.\u001B[39mbeta[t][:, \u001B[38;5;28;01mNone\u001B[39;00m, \u001B[38;5;28;01mNone\u001B[39;00m, \u001B[38;5;28;01mNone\u001B[39;00m]\n\u001B[1;32m     50\u001B[0m \u001B[38;5;28;01mif\u001B[39;00m i \u001B[38;5;241m>\u001B[39m \u001B[38;5;241m1\u001B[39m:\n\u001B[0;32m---> 51\u001B[0m     noise \u001B[38;5;241m=\u001B[39m \u001B[43mtorch\u001B[49m\u001B[38;5;241;43m.\u001B[39;49m\u001B[43mrandn_like\u001B[49m\u001B[43m(\u001B[49m\u001B[43mx\u001B[49m\u001B[43m)\u001B[49m\n\u001B[1;32m     52\u001B[0m \u001B[38;5;28;01melse\u001B[39;00m:\n\u001B[1;32m     53\u001B[0m     noise \u001B[38;5;241m=\u001B[39m torch\u001B[38;5;241m.\u001B[39mzeros_like(x)\n",
      "\u001B[0;31mRuntimeError\u001B[0m: CUDA error: device-side assert triggered\nCUDA kernel errors might be asynchronously reported at some other API call, so the stacktrace below might be incorrect.\nFor debugging consider passing CUDA_LAUNCH_BLOCKING=1.\nCompile with `TORCH_USE_CUDA_DSA` to enable device-side assertions.\n"
     ]
    }
   ],
   "source": [
    "noise_steps_old = diffusion.noise_steps\n",
    "diffusion.noise_steps=200\n",
    "x = diffusion.sample(model, 1, 1)\n",
    "\n",
    "plt.figure(figsize=(32, 32))\n",
    "plt.imshow(torch.cat([\n",
    "    torch.cat([i for i in x.cpu()], dim=-1),\n",
    "], dim=-2).permute(1, 2, 0).cpu(), cmap=\"jet\")\n",
    "diffusion.noise_steps=noise_steps_old\n",
    "plt.show()"
   ],
   "metadata": {
    "collapsed": false,
    "ExecuteTime": {
     "end_time": "2024-03-15T22:44:48.703640740Z",
     "start_time": "2024-03-15T22:44:47.929530391Z"
    }
   },
   "id": "d549b55969684054",
   "execution_count": 8
  },
  {
   "cell_type": "code",
   "outputs": [],
   "source": [
    "import gc, torch\n",
    "gc.collect()\n",
    "torch.cuda.empty_cache()"
   ],
   "metadata": {
    "collapsed": false,
    "ExecuteTime": {
     "end_time": "2024-03-15T23:30:48.868452332Z",
     "start_time": "2024-03-15T23:30:47.433696393Z"
    }
   },
   "id": "6ae68a9719896414",
   "execution_count": 1
  }
 ],
 "metadata": {
  "kernelspec": {
   "display_name": "Python 3",
   "language": "python",
   "name": "python3"
  },
  "language_info": {
   "codemirror_mode": {
    "name": "ipython",
    "version": 2
   },
   "file_extension": ".py",
   "mimetype": "text/x-python",
   "name": "python",
   "nbconvert_exporter": "python",
   "pygments_lexer": "ipython2",
   "version": "2.7.6"
  }
 },
 "nbformat": 4,
 "nbformat_minor": 5
}
