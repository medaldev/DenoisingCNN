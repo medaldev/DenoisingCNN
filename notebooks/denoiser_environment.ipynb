{
 "cells": [
  {
   "cell_type": "code",
   "execution_count": 1,
   "metadata": {
    "collapsed": true,
    "ExecuteTime": {
     "end_time": "2024-01-23T03:50:15.827888066Z",
     "start_time": "2024-01-23T03:50:12.986669642Z"
    }
   },
   "outputs": [],
   "source": [
    "from applications.denoiser_environment import DenoiserEnvironment"
   ]
  },
  {
   "cell_type": "code",
   "execution_count": 2,
   "outputs": [],
   "source": [
    "import torch"
   ],
   "metadata": {
    "collapsed": false,
    "ExecuteTime": {
     "end_time": "2024-01-23T03:50:15.836124987Z",
     "start_time": "2024-01-23T03:50:15.831928410Z"
    }
   }
  },
  {
   "cell_type": "code",
   "execution_count": 3,
   "outputs": [],
   "source": [
    "PATH_BASE = \"/home/amedvedev/fprojects/python/denoising\"\n",
    "NAME_DATASET = \"gcg18\"\n",
    "width, height = 30, 30\n",
    "env = DenoiserEnvironment(name_model=\"model_18\", name_dataset=NAME_DATASET, path_base=PATH_BASE)\n",
    "env.device = torch.device(\"cuda:0\")"
   ],
   "metadata": {
    "collapsed": false,
    "ExecuteTime": {
     "end_time": "2024-01-23T03:50:15.842137368Z",
     "start_time": "2024-01-23T03:50:15.838441342Z"
    }
   }
  },
  {
   "cell_type": "code",
   "execution_count": 16,
   "outputs": [
    {
     "name": "stdout",
     "output_type": "stream",
     "text": [
      "Generating dataset gcg18/train...\n",
      "Progress: |██████████████████████████████| 100.0% Complete | \r\n",
      "\n",
      "Generating dataset gcg18/val...\n",
      "\n"
     ]
    }
   ],
   "source": [
    "from datageneration.generators import GenPolyDataset\n",
    "from datageneration import paramsgens\n",
    "\n",
    "generate_settings = [(\"train\", 1), (\"val\", 0)]\n",
    "\n",
    "for (data_category, count) in generate_settings:\n",
    "    env.generate_data(NAME_DATASET, data_category, n=count, width=width, height=height,\n",
    "                      cell_size=paramsgens.GenCellSizeInSet([1, 2]),\n",
    "                      pct_noise=paramsgens.GenPctUniformNoiseRange(0.6, 0.7),\n",
    "                      k0=paramsgens.GenK0InRange(min_val=-100, max_val=100),\n",
    "                      csv=False, txt=True, png=True,\n",
    "                      generator_class=GenPolyDataset,\n",
    "                      )\n",
    "\n",
    "# pct_noise=0.1, k0=55.0,"
   ],
   "metadata": {
    "collapsed": false,
    "ExecuteTime": {
     "end_time": "2024-01-23T03:10:33.490859865Z",
     "start_time": "2024-01-23T03:10:32.442642485Z"
    }
   }
  },
  {
   "cell_type": "code",
   "execution_count": 4,
   "outputs": [
    {
     "name": "stderr",
     "output_type": "stream",
     "text": [
      "/home/amedvedev/fprojects/python/denoising/venv/lib/python3.10/site-packages/torchvision/models/_utils.py:208: UserWarning: The parameter 'pretrained' is deprecated since 0.13 and may be removed in the future, please use 'weights' instead.\n",
      "  warnings.warn(\n",
      "/home/amedvedev/fprojects/python/denoising/venv/lib/python3.10/site-packages/torchvision/models/_utils.py:223: UserWarning: Arguments other than a weight enum or `None` for 'weights' are deprecated since 0.13 and may be removed in the future. The current behavior is equivalent to passing `weights=ResNet50_Weights.IMAGENET1K_V1`. You can also use `weights=ResNet50_Weights.DEFAULT` to get the most up-to-date weights.\n",
      "  warnings.warn(msg)\n",
      "/home/amedvedev/fprojects/python/denoising/venv/lib/python3.10/site-packages/torch/overrides.py:110: UserWarning: 'has_cuda' is deprecated, please use 'torch.backends.cuda.is_built()'\n",
      "  torch.has_cuda,\n",
      "/home/amedvedev/fprojects/python/denoising/venv/lib/python3.10/site-packages/torch/overrides.py:111: UserWarning: 'has_cudnn' is deprecated, please use 'torch.backends.cudnn.is_available()'\n",
      "  torch.has_cudnn,\n",
      "/home/amedvedev/fprojects/python/denoising/venv/lib/python3.10/site-packages/torch/overrides.py:117: UserWarning: 'has_mps' is deprecated, please use 'torch.backends.mps.is_built()'\n",
      "  torch.has_mps,\n",
      "/home/amedvedev/fprojects/python/denoising/venv/lib/python3.10/site-packages/torch/overrides.py:118: UserWarning: 'has_mkldnn' is deprecated, please use 'torch.backends.mkldnn.is_available()'\n",
      "  torch.has_mkldnn,\n"
     ]
    },
    {
     "name": "stdout",
     "output_type": "stream",
     "text": [
      "New model created.\n"
     ]
    }
   ],
   "source": [
    "import models\n",
    "env.init_model(models.ImageAutoencoder)"
   ],
   "metadata": {
    "collapsed": false,
    "ExecuteTime": {
     "end_time": "2024-01-23T03:50:23.027864132Z",
     "start_time": "2024-01-23T03:50:22.201221981Z"
    }
   }
  },
  {
   "cell_type": "code",
   "execution_count": 18,
   "outputs": [],
   "source": [
    "import models\n",
    "env.model = models.UnetAutoencoder.UNetAuto(1, 1, 1024).to(env.device)"
   ],
   "metadata": {
    "collapsed": false,
    "ExecuteTime": {
     "end_time": "2024-01-23T03:10:34.364443854Z",
     "start_time": "2024-01-23T03:10:34.101983761Z"
    }
   }
  },
  {
   "cell_type": "code",
   "execution_count": 19,
   "outputs": [
    {
     "name": "stdout",
     "output_type": "stream",
     "text": [
      "torch.Size([1, 1, 64, 64])\n"
     ]
    }
   ],
   "source": [
    "env.model.eval()\n",
    "x = torch.randn(1, 1, 64, 64, device=env.device)\n",
    "print(env.model(x).size())"
   ],
   "metadata": {
    "collapsed": false,
    "ExecuteTime": {
     "end_time": "2024-01-23T03:10:34.410452899Z",
     "start_time": "2024-01-23T03:10:34.368118437Z"
    }
   }
  },
  {
   "cell_type": "code",
   "execution_count": 20,
   "outputs": [
    {
     "name": "stderr",
     "output_type": "stream",
     "text": [
      "Using cache found in /home/amedvedev/.cache/torch/hub/mateuszbuda_brain-segmentation-pytorch_master\n"
     ]
    }
   ],
   "source": [
    "env.model = torch.hub.load('mateuszbuda/brain-segmentation-pytorch', 'unet',\n",
    "    in_channels=1, out_channels=1, init_features=32, pretrained=False).to(env.device)"
   ],
   "metadata": {
    "collapsed": false,
    "ExecuteTime": {
     "end_time": "2024-01-23T03:10:35.054358459Z",
     "start_time": "2024-01-23T03:10:34.404151522Z"
    }
   }
  },
  {
   "cell_type": "code",
   "execution_count": 21,
   "outputs": [],
   "source": [
    "env.load_model(model_type=\"pt\")"
   ],
   "metadata": {
    "collapsed": false,
    "ExecuteTime": {
     "end_time": "2024-01-23T03:10:35.261148470Z",
     "start_time": "2024-01-23T03:10:35.054181760Z"
    }
   }
  },
  {
   "cell_type": "code",
   "execution_count": 22,
   "outputs": [],
   "source": [
    "from common.fstream import read_tensor, read_matrix\n",
    "env.load_data(width, height, batch_size=4, read_tensor_x=read_tensor, read_tensor_y=read_tensor)"
   ],
   "metadata": {
    "collapsed": false,
    "ExecuteTime": {
     "end_time": "2024-01-23T03:10:35.305499856Z",
     "start_time": "2024-01-23T03:10:35.262102092Z"
    }
   }
  },
  {
   "cell_type": "code",
   "execution_count": 5,
   "outputs": [],
   "source": [
    "from common.fstream import read_tensor, read_matrix\n",
    "env.load_equal_data(width, height, batch_size=4, read_tensor_x=read_tensor, read_tensor_y=read_matrix)"
   ],
   "metadata": {
    "collapsed": false,
    "ExecuteTime": {
     "end_time": "2024-01-23T03:50:34.251542982Z",
     "start_time": "2024-01-23T03:50:34.204990596Z"
    }
   }
  },
  {
   "cell_type": "code",
   "execution_count": 24,
   "outputs": [
    {
     "name": "stderr",
     "output_type": "stream",
     "text": [
      "\n",
      "KeyboardInterrupt\n",
      "\n"
     ]
    }
   ],
   "source": [
    "scores_before, scores = env.score(show=True)"
   ],
   "metadata": {
    "collapsed": false,
    "ExecuteTime": {
     "end_time": "2024-01-23T03:10:35.586325884Z",
     "start_time": "2024-01-23T03:10:35.343940960Z"
    }
   }
  },
  {
   "cell_type": "code",
   "execution_count": null,
   "outputs": [],
   "source": [],
   "metadata": {
    "collapsed": false
   }
  },
  {
   "cell_type": "code",
   "execution_count": 6,
   "outputs": [
    {
     "name": "stderr",
     "output_type": "stream",
     "text": [
      "/home/amedvedev/fprojects/python/denoising/venv/lib/python3.10/site-packages/torch/_tensor.py:836: UserWarning: non-inplace resize is deprecated\n",
      "  warnings.warn(\"non-inplace resize is deprecated\")\n"
     ]
    },
    {
     "name": "stdout",
     "output_type": "stream",
     "text": [
      "Training progress: |██████████████████████████████████████████████████| 100.0% Complete | \r\n",
      "\n",
      "Validating progress: |██████████████████████████████████████████████████| 100.0% Complete | \r\n",
      "\n",
      "Epoch: 1 \tTraining Loss: 3.365298 \tValidating Loss: 2.671733 \tTime: 0.53 m\n",
      "\n",
      "====================================================================================================\n",
      "\n",
      "Training progress: |██████████████████████████████████████████████████| 100.0% Complete | \r\n",
      "\n",
      "Validating progress: |██████████████████████████████████████████████████| 100.0% Complete | \r\n",
      "\n",
      "Epoch: 2 \tTraining Loss: 2.636048 \tValidating Loss: 2.451643 \tTime: 0.52 m\n",
      "Model saved successfully at /home/amedvedev/fprojects/python/denoising/assets/pt/model_18.pt.\n",
      "\n",
      "====================================================================================================\n",
      "\n",
      "Training progress: |██████████████████████████████████████████████████| 100.0% Complete | \r\n",
      "\n",
      "Validating progress: |██████████████████████████████████████████████████| 100.0% Complete | \r\n",
      "\n",
      "Epoch: 3 \tTraining Loss: 2.460741 \tValidating Loss: 2.390498 \tTime: 0.53 m\n",
      "Model saved successfully at /home/amedvedev/fprojects/python/denoising/assets/pt/model_18.pt.\n",
      "\n",
      "====================================================================================================\n",
      "\n",
      "Training progress: |██████████████████████████████████████████████████| 100.0% Complete | \r\n",
      "\n",
      "Validating progress: |██████████████████████████████████████████████████| 100.0% Complete | \r\n",
      "\n",
      "Epoch: 4 \tTraining Loss: 2.384750 \tValidating Loss: 2.329521 \tTime: 0.53 m\n",
      "Model saved successfully at /home/amedvedev/fprojects/python/denoising/assets/pt/model_18.pt.\n",
      "\n",
      "====================================================================================================\n",
      "\n",
      "Training progress: |██████████████████████████████████████████████████| 100.0% Complete | \r\n",
      "\n",
      "Validating progress: |██████████████████████████████████████████████████| 100.0% Complete | \r\n",
      "\n",
      "Epoch: 5 \tTraining Loss: 2.322212 \tValidating Loss: 2.294697 \tTime: 0.52 m\n",
      "Model saved successfully at /home/amedvedev/fprojects/python/denoising/assets/pt/model_18.pt.\n",
      "\n",
      "====================================================================================================\n",
      "\n",
      "Training progress: |██████████████████████████████████████████████████| 100.0% Complete | \r\n",
      "\n",
      "Validating progress: |██████████████████████████████████████████████████| 100.0% Complete | \r\n",
      "\n",
      "Epoch: 6 \tTraining Loss: 2.291812 \tValidating Loss: 2.251553 \tTime: 0.52 m\n",
      "Model saved successfully at /home/amedvedev/fprojects/python/denoising/assets/pt/model_18.pt.\n",
      "\n",
      "====================================================================================================\n",
      "\n",
      "Training progress: |██████████████████████████████████████████████████| 100.0% Complete | \r\n",
      "\n",
      "Validating progress: |██████████████████████████████████████████████████| 100.0% Complete | \r\n",
      "\n",
      "Epoch: 7 \tTraining Loss: 2.251884 \tValidating Loss: 2.173626 \tTime: 0.52 m\n",
      "Model saved successfully at /home/amedvedev/fprojects/python/denoising/assets/pt/model_18.pt.\n",
      "\n",
      "====================================================================================================\n",
      "\n",
      "Training progress: |██████████████████████████████████████████████████| 100.0% Complete | \r\n",
      "\n",
      "Validating progress: |██████████████████████████████████████████████████| 100.0% Complete | \r\n",
      "\n",
      "Epoch: 8 \tTraining Loss: 2.238665 \tValidating Loss: 2.115571 \tTime: 0.54 m\n",
      "Model saved successfully at /home/amedvedev/fprojects/python/denoising/assets/pt/model_18.pt.\n",
      "\n",
      "====================================================================================================\n",
      "\n",
      "Training progress: |██████████████████████████████████████████████████| 100.0% Complete | \r\n",
      "\n",
      "Validating progress: |██████████████████████████████████████████████████| 100.0% Complete | \r\n",
      "\n",
      "Epoch: 9 \tTraining Loss: 2.201381 \tValidating Loss: 2.116920 \tTime: 0.51 m\n",
      "\n",
      "====================================================================================================\n",
      "\n",
      "Training progress: |██████████████████████████████████████████████████| 100.0% Complete | \r\n",
      "\n",
      "Validating progress: |██████████████████████████████████████████████████| 100.0% Complete | \r\n",
      "\n",
      "Epoch: 10 \tTraining Loss: 2.193160 \tValidating Loss: 2.145203 \tTime: 0.49 m\n",
      "\n",
      "====================================================================================================\n",
      "\n"
     ]
    }
   ],
   "source": [
    "env.train(10, step_saving=True, step_plotting=False,\n",
    "          optimizer=torch.optim.Adam(env.model.parameters(), lr=0.001), criterion=torch.nn.L1Loss())"
   ],
   "metadata": {
    "collapsed": false,
    "ExecuteTime": {
     "end_time": "2024-01-23T03:55:53.433236371Z",
     "start_time": "2024-01-23T03:50:38.316789177Z"
    }
   }
  },
  {
   "cell_type": "markdown",
   "source": [],
   "metadata": {
    "collapsed": false
   }
  },
  {
   "cell_type": "markdown",
   "source": [],
   "metadata": {
    "collapsed": false
   }
  },
  {
   "cell_type": "code",
   "execution_count": null,
   "outputs": [],
   "source": [
    "env.show_metrics(n_last=40)"
   ],
   "metadata": {
    "collapsed": false
   }
  },
  {
   "cell_type": "code",
   "execution_count": null,
   "outputs": [],
   "source": [
    "scores_before, scores = env.score(show=True)"
   ],
   "metadata": {
    "collapsed": false
   }
  },
  {
   "cell_type": "code",
   "execution_count": null,
   "outputs": [],
   "source": [
    "env.save(pth=False, onnx=True)"
   ],
   "metadata": {
    "collapsed": false
   }
  },
  {
   "cell_type": "code",
   "execution_count": null,
   "outputs": [],
   "source": [
    "torch.save(env.model, \"/home/amedvedev/fprojects/python/denoising/assets/pt/model.pt\")"
   ],
   "metadata": {
    "collapsed": false
   }
  },
  {
   "cell_type": "code",
   "execution_count": null,
   "outputs": [],
   "source": [
    "env.test_on_dataset(include_train=False, include_test=True, cmap=\"jet\")"
   ],
   "metadata": {
    "collapsed": false
   }
  },
  {
   "cell_type": "code",
   "execution_count": 12,
   "outputs": [
    {
     "name": "stdout",
     "output_type": "stream",
     "text": [
      "Show example №0\n"
     ]
    },
    {
     "data": {
      "text/plain": "<Figure size 1500x1000 with 24 Axes>",
      "image/png": "[encoded data removed]"
     },
     "metadata": {},
     "output_type": "display_data"
    }
   ],
   "source": [
    "env.show_single(concrete=None, op_count=1, figsize=(15, 10), cmap=\"jet\")"
   ],
   "metadata": {
    "collapsed": false,
    "ExecuteTime": {
     "end_time": "2024-01-23T03:49:15.567178082Z",
     "start_time": "2024-01-23T03:49:14.355144955Z"
    }
   }
  },
  {
   "cell_type": "code",
   "execution_count": null,
   "outputs": [],
   "source": [
    "import gc\n",
    "gc.collect()\n"
   ],
   "metadata": {
    "collapsed": false
   }
  },
  {
   "cell_type": "code",
   "execution_count": null,
   "outputs": [],
   "source": [
    "\n",
    "import torch\n",
    "env.model.cpu()\n",
    "del env.model\n",
    "\n",
    "torch.cuda.empty_cache()"
   ],
   "metadata": {
    "collapsed": false
   }
  },
  {
   "cell_type": "code",
   "execution_count": null,
   "outputs": [],
   "source": [],
   "metadata": {
    "collapsed": false
   }
  }
 ],
 "metadata": {
  "kernelspec": {
   "display_name": "Python 3",
   "language": "python",
   "name": "python3"
  },
  "language_info": {
   "codemirror_mode": {
    "name": "ipython",
    "version": 2
   },
   "file_extension": ".py",
   "mimetype": "text/x-python",
   "name": "python",
   "nbconvert_exporter": "python",
   "pygments_lexer": "ipython2",
   "version": "2.7.6"
  }
 },
 "nbformat": 4,
 "nbformat_minor": 0
}
